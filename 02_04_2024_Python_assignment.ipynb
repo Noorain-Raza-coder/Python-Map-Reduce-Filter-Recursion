{
 "cells": [
  {
   "cell_type": "markdown",
   "id": "0c5865cd-0965-4a34-8dfe-6619cd67ca78",
   "metadata": {},
   "source": [
    "# Topic : For Loop"
   ]
  },
  {
   "cell_type": "markdown",
   "id": "1532c3eb-13f2-4963-a488-65e0545b682d",
   "metadata": {},
   "source": [
    "## 1) Write a Python program to print numbers from 1 to 10 using a for loop."
   ]
  },
  {
   "cell_type": "markdown",
   "id": "04358342-73a4-43df-80cc-5591f0da98df",
   "metadata": {},
   "source": [
    "### Ans 1)\n",
    "\n",
    "#### Steps:\n",
    "- Use range() function to generate a sequence of numbers from 1 to 10.\n",
    "- Iterate through it and print each number."
   ]
  },
  {
   "cell_type": "code",
   "execution_count": 1,
   "id": "49d2821c-e086-4992-a02b-8c0b07c0efe2",
   "metadata": {},
   "outputs": [
    {
     "name": "stdout",
     "output_type": "stream",
     "text": [
      "Numbers from 1 to 10 : \n",
      "1\n",
      "2\n",
      "3\n",
      "4\n",
      "5\n",
      "6\n",
      "7\n",
      "8\n",
      "9\n",
      "10\n"
     ]
    }
   ],
   "source": [
    "# Use range() function to generate a sequence of numbers from 1 to 10.\n",
    "# Iterate through it and print each number.\n",
    "print(\"Numbers from 1 to 10 : \")\n",
    "for i in range(1,11):\n",
    "    print(i)"
   ]
  },
  {
   "cell_type": "markdown",
   "id": "7cd11729-77bf-4919-822e-7c157105ff9a",
   "metadata": {},
   "source": [
    "## 2)  Explain the difference between a for loop and a while loop in Python."
   ]
  },
  {
   "cell_type": "markdown",
   "id": "6908200e-eb97-4990-a5bd-6d26f83d4d3f",
   "metadata": {},
   "source": [
    "### Ans 2)\n",
    "\n",
    "- Synstax of while loop:\n",
    "- 1) initialization\n",
    "- 2) while (condition):\n",
    "- 3)    update\n",
    "         ...\n",
    "    \n",
    "- Synstax of for loop:\n",
    "- 1) for i in iterable:\n",
    "         ...\n",
    "    \n",
    "- In while loop all three things (initialization, condition check, updation) are done by users while in for loop initialization and updation is done automatically.\n",
    "\n",
    "- While loop is used in such cases where first condition is to be check and then we want to run the loop. For loop is prefered choise in cases of sequence generation, traversing through the elements etc.\n",
    " "
   ]
  },
  {
   "cell_type": "markdown",
   "id": "c31c877d-0ed2-48bc-8158-9c70487ed250",
   "metadata": {},
   "source": [
    "## 3) Write a Python program to calculate the sum of all numbers from 1 to 100 using a for loop"
   ]
  },
  {
   "cell_type": "markdown",
   "id": "bb88cf1c-6acb-49ff-8e71-1e2815363378",
   "metadata": {},
   "source": [
    "### Ans 3)\n",
    "\n",
    "#### Steps:\n",
    "- Initialise a variable to store the sum. \n",
    "- Generate a sequence of numbers from 1 to 100 using range() function.\n",
    "- Add the generated number with sum variable and print it."
   ]
  },
  {
   "cell_type": "code",
   "execution_count": 3,
   "id": "4a9d10b6-10f2-4968-b627-6822af311bf3",
   "metadata": {},
   "outputs": [
    {
     "name": "stdout",
     "output_type": "stream",
     "text": [
      "Sum of numbers from 1 to 100 :  5050\n"
     ]
    }
   ],
   "source": [
    "\n",
    "sum_val = 0\n",
    "for num in range(1,101):\n",
    "    sum_val+=num\n",
    "print(\"Sum of numbers from 1 to 100 : \",sum_val)"
   ]
  },
  {
   "cell_type": "markdown",
   "id": "50ec0a48-9cf7-421f-9880-6b6b7b0a36c2",
   "metadata": {},
   "source": [
    "## 4) How do you iterate through a list using a for loop in Python?\n"
   ]
  },
  {
   "cell_type": "markdown",
   "id": "53b26b53-ff98-4ef9-9cb8-3be93f356c99",
   "metadata": {},
   "source": [
    "### Ans 4)\n",
    "- Let's say a list of numbers L = [1,2,3,4]\n",
    "- To iterate through it I can use for loop that works internally in following way:\n",
    "- 1) First of all for loop takes an iterable.\n",
    "- 2) Then internally it pass the iterable to iter() function that converts iterable into iterators.\n",
    "- 3) Then by using next() function it read each element one by one."
   ]
  },
  {
   "cell_type": "code",
   "execution_count": 10,
   "id": "711c9cb4-488a-43f4-a102-555f84505628",
   "metadata": {},
   "outputs": [
    {
     "name": "stdout",
     "output_type": "stream",
     "text": [
      "1\n",
      "2\n",
      "3\n",
      "4\n"
     ]
    }
   ],
   "source": [
    "# create a list of elements:\n",
    "L = [1,2,3,4]\n",
    "\n",
    "# iterate through the for loop\n",
    "for ele in L:\n",
    "    print(ele)"
   ]
  },
  {
   "cell_type": "markdown",
   "id": "58f8f951-eb18-441e-99b8-37caade26102",
   "metadata": {},
   "source": [
    "## 5)  Write a Python program to find the product of all elements in a list using a for loop."
   ]
  },
  {
   "cell_type": "markdown",
   "id": "9ab46425-82a3-4476-a135-4980145ea8cf",
   "metadata": {},
   "source": [
    "### Ans 5) \n",
    "\n",
    "#### Steps:\n",
    "- Create a list of elements.\n",
    "- Intialise a varaible mult with 1 to store the multiplication of all elements.\n",
    "- Iterate through all elements of list and multiply each element with mult and print the mult variable."
   ]
  },
  {
   "cell_type": "code",
   "execution_count": 4,
   "id": "511b9a4c-3483-4230-a253-fef1df15a2db",
   "metadata": {},
   "outputs": [
    {
     "name": "stdout",
     "output_type": "stream",
     "text": [
      "Multiple of all elements in a list : 720\n"
     ]
    }
   ],
   "source": [
    "list5 = [1,2,3,4,5,6]\n",
    "\n",
    "mult = 1\n",
    "for ele in list5:\n",
    "    mult = mult*ele\n",
    "    \n",
    "print(\"Multiple of all elements in a list :\",mult)"
   ]
  },
  {
   "cell_type": "markdown",
   "id": "574b42fd-5d51-4cc1-911f-b5d1daa00011",
   "metadata": {},
   "source": [
    "## 6)  Create a Python program that prints all even numbers from 1 to 20 using a for loop.\n"
   ]
  },
  {
   "cell_type": "markdown",
   "id": "c62ab11a-4284-482e-828d-38f278b00377",
   "metadata": {},
   "source": [
    "### Ans 6)\n",
    "\n",
    "#### Steps:\n",
    "- Using range function generate only even numbers by passing following parameters.\n",
    "- Start : 2 , End : 21 , Step/jump : 2\n",
    "- print each generated number."
   ]
  },
  {
   "cell_type": "code",
   "execution_count": 6,
   "id": "30b4b227-5b5c-461c-ad37-90c0dd9235f8",
   "metadata": {},
   "outputs": [
    {
     "name": "stdout",
     "output_type": "stream",
     "text": [
      "Even numbers from 1 to 20 :\n",
      "2\n",
      "4\n",
      "6\n",
      "8\n",
      "10\n",
      "12\n",
      "14\n",
      "16\n",
      "18\n",
      "20\n"
     ]
    }
   ],
   "source": [
    "print(\"Even numbers from 1 to 20 :\")\n",
    "for num in range(2,21,2):\n",
    "    print(num)"
   ]
  },
  {
   "cell_type": "markdown",
   "id": "fea721ac-fc73-4e0f-a116-a5a666a9b2f2",
   "metadata": {},
   "source": [
    "## 7)  Write a Python program that calculates the factorial of a number using a for loop.\n"
   ]
  },
  {
   "cell_type": "markdown",
   "id": "391b3d07-85bd-44f9-abd2-04a0998e6aa1",
   "metadata": {},
   "source": [
    "### Ans 7)\n",
    "\n",
    "#### Steps:\n",
    "- Create a fucntion that calculates the factorial of a number and return it.\n",
    "- Generate a sequence of numbers from 1 to 5 and call factorial fucntion to find the factorial of each number and store into list using list comprehension.\n",
    "- Then iterate through this list of factorials and find the sum of digits of each factorial numebers."
   ]
  },
  {
   "cell_type": "code",
   "execution_count": 7,
   "id": "7584c220-eade-4743-b6a0-36b11eb5c353",
   "metadata": {},
   "outputs": [
    {
     "name": "stdin",
     "output_type": "stream",
     "text": [
      "Enter a number to find its factorial :  5\n"
     ]
    },
    {
     "name": "stdout",
     "output_type": "stream",
     "text": [
      "Factorial of given number is :  120\n"
     ]
    }
   ],
   "source": [
    "# factorial function\n",
    "n7 = int(input(\"Enter a number to find its factorial : \"))\n",
    "mult = 1\n",
    "for i in range(1,n7+1):\n",
    "    mult = mult*i\n",
    "\n",
    "print(\"Factorial of given number is : \" ,mult)"
   ]
  },
  {
   "cell_type": "markdown",
   "id": "907fab53-d47c-4213-9468-f2e6023f5542",
   "metadata": {},
   "source": [
    "## 8)  How can you iterate through the characters of a string using a for loop in Python?\n"
   ]
  },
  {
   "cell_type": "markdown",
   "id": "cbc07169-844e-4a31-a88d-4a0675cc5c6e",
   "metadata": {},
   "source": [
    "### Ans 8)\n",
    "- Let's create a string of characters S = 'Data Science'\n",
    "- To iterate through string I can use for loop that works internally in following way:\n",
    "- 1) First of all for loop takes an iterable.\n",
    "- 2) Then internally it pass the iterable to iter() function that converts iterable into iterators.\n",
    "- 3) Then by using next() function it read each element one by one.\n",
    "\n",
    "- In other words using for loop I can go inside the string and can access each character one by one."
   ]
  },
  {
   "cell_type": "markdown",
   "id": "1aa895d0-c2b3-48e5-a76b-a1c9ea138483",
   "metadata": {},
   "source": [
    "## 9)  Write a Python program to find the largest number in a list using a for loop"
   ]
  },
  {
   "cell_type": "markdown",
   "id": "d53f37e7-00ed-4f46-af4f-6e65af58a573",
   "metadata": {},
   "source": [
    "### Ans 9)\n",
    "\n",
    "#### Steps :\n",
    "- Create a list of elements.\n",
    "- Initialise the largest number with first element.\n",
    "- Iterate through the list of element and compare current element with initalised element and find the max and update the largest_num variable."
   ]
  },
  {
   "cell_type": "code",
   "execution_count": 9,
   "id": "fd1ed362-08bf-49ae-a95f-4b121b9de8a2",
   "metadata": {},
   "outputs": [
    {
     "name": "stdout",
     "output_type": "stream",
     "text": [
      "Given list : [1, 2, 3, 4, 5, 6, 7], \n",
      "largest number : 7\n"
     ]
    }
   ],
   "source": [
    "list9 = [1,2,3,4,5,6,7]\n",
    "largest_num = list9[0]\n",
    "\n",
    "for num in list9 :\n",
    "    largest_num = max(num,largest_num)\n",
    "\n",
    "print(f\"Given list : {list9}, \\nlargest number : {largest_num}\")"
   ]
  },
  {
   "cell_type": "markdown",
   "id": "8671edaf-a9d6-4b50-ae6a-094e70fa5c54",
   "metadata": {},
   "source": [
    "## 10)  Create a Python program that prints the Fibonacci sequence up to a specified limit using a for loop."
   ]
  },
  {
   "cell_type": "markdown",
   "id": "cfabb83c-308a-4146-9512-c220101ea4f5",
   "metadata": {},
   "source": [
    "### Ans 10)\n",
    "\n",
    "1) Fibonacci number : F(n) = F(n-1) + F(n-2)\n",
    "\n",
    "#### Steps:\n",
    "- Take a number from user to print first n fibonacci numbers.\n",
    "- If number is 0 or 1 that is the base case then return number itself.\n",
    "- Else run the loop till n times to find the next number of fibonacci series using formula and print it."
   ]
  },
  {
   "cell_type": "code",
   "execution_count": 10,
   "id": "c0d4886d-f70d-4fbb-a7f6-f559ffe6993c",
   "metadata": {},
   "outputs": [
    {
     "name": "stdin",
     "output_type": "stream",
     "text": [
      "Enter a value of n to print first n fibonacci numbers :  10\n"
     ]
    },
    {
     "name": "stdout",
     "output_type": "stream",
     "text": [
      "0\n",
      "1\n",
      "1\n",
      "2\n",
      "3\n",
      "5\n",
      "8\n",
      "13\n",
      "21\n",
      "34\n"
     ]
    }
   ],
   "source": [
    "# Take a number from user to print first n fibonacci numbers.\n",
    "n = int(input(\"Enter a value of n to print first n fibonacci numbers : \"))\n",
    "\n",
    "# If number is 0 or 1 that is the base case then return number itself.\n",
    "# Else run the loop till n times to find the next number of fibonacci series using formula and print it.\n",
    "if n <= 1:\n",
    "    print(n)\n",
    "else:\n",
    "    f0 , f1 = 0 , 1\n",
    "    print(f\"{f0}\\n{f1}\")\n",
    "    for i in range(2,n):\n",
    "        next_num = f0 + f1\n",
    "        print(next_num)\n",
    "        f0 = f1\n",
    "        f1 = next_num"
   ]
  },
  {
   "cell_type": "markdown",
   "id": "d3f64839-c315-4ebc-8698-974b24019f58",
   "metadata": {},
   "source": [
    "## 11) Write a Python program to count the number of vowels in a given string using a for loop."
   ]
  },
  {
   "cell_type": "markdown",
   "id": "c6b00333-00a8-41dd-822c-2b2a35daf60f",
   "metadata": {},
   "source": [
    "### Ans 11)\n",
    "\n",
    "#### Steps:\n",
    "- Take a string from user and store it in a variable.\n",
    "- Create a list of vowels.\n",
    "- Initialise the vowel count by 0 and increase it by one if character in a string is a vowel.\n",
    "- Print the vowel count."
   ]
  },
  {
   "cell_type": "code",
   "execution_count": 11,
   "id": "7cabccf9-012d-4a55-8899-74a5164895e1",
   "metadata": {},
   "outputs": [
    {
     "name": "stdin",
     "output_type": "stream",
     "text": [
      "Enter any string to count number of vowels in it :  data science\n"
     ]
    },
    {
     "name": "stdout",
     "output_type": "stream",
     "text": [
      "Given string : data science\n",
      "Number of vowels in given string  : 5\n"
     ]
    }
   ],
   "source": [
    "# create/take a string of characters\n",
    "s13 = input(\"Enter any string to count number of vowels in it : \")\n",
    "print(f\"Given string : {s13}\")\n",
    "\n",
    "# create a list of vowels\n",
    "vowels = ['a','e','i','o','u']\n",
    "\n",
    "# initialise vowel count variable by 0\n",
    "vowel_count = 0\n",
    "\n",
    "# search each character of string into list of vowels, if present then increase vowel count and print the final count\n",
    "for char in s13:\n",
    "    if char in vowels:\n",
    "        vowel_count += 1\n",
    "        \n",
    "print(f\"Number of vowels in given string  : {vowel_count}\")"
   ]
  },
  {
   "cell_type": "markdown",
   "id": "36739aa6-6821-46d8-967f-ac85ce083511",
   "metadata": {},
   "source": [
    "## 12) Create a Python program that generates a multiplication table for a given number using a for loop.\n"
   ]
  },
  {
   "cell_type": "markdown",
   "id": "46fa5e32-1b27-4c02-8e6f-a83c4c8715af",
   "metadata": {},
   "source": [
    "### Ans 12)\n",
    "\n",
    "#### Steps:\n",
    "- Take a number from user to find the table.\n",
    "- Generate a sequence of numbers from 1 to 10 and multiply each generated number with user given number to find its table."
   ]
  },
  {
   "cell_type": "code",
   "execution_count": 12,
   "id": "e997f4e1-c881-40f6-856f-80c1bf82e0eb",
   "metadata": {},
   "outputs": [
    {
     "name": "stdin",
     "output_type": "stream",
     "text": [
      "Enter a number to get it's multiplication table :   3\n"
     ]
    },
    {
     "name": "stdout",
     "output_type": "stream",
     "text": [
      "3 x 1 = 3\n",
      "3 x 2 = 6\n",
      "3 x 3 = 9\n",
      "3 x 4 = 12\n",
      "3 x 5 = 15\n",
      "3 x 6 = 18\n",
      "3 x 7 = 21\n",
      "3 x 8 = 24\n",
      "3 x 9 = 27\n",
      "3 x 10 = 30\n"
     ]
    }
   ],
   "source": [
    "# Take a number from user to find the table.\n",
    "n = int(input(\"Enter a number to get it's multiplication table :  \"))\n",
    "\n",
    "# Generate a sequence of numbers from 1 to 10 and multiply each generated number with user given number to find its table.\n",
    "for i in range(1,11):\n",
    "    print(f\"{n} x {i} = {n*i}\")"
   ]
  },
  {
   "cell_type": "markdown",
   "id": "e9844eac-b1e7-44dd-b12b-c967e7d3d17b",
   "metadata": {},
   "source": [
    "## 13)  Write a Python program to reverse a list using a for loop."
   ]
  },
  {
   "cell_type": "markdown",
   "id": "3bae204e-8de9-4c4e-bea7-aee9e05e3da3",
   "metadata": {},
   "source": [
    "### Ans 13)\n",
    "\n",
    "#### Steps:\n",
    "- Create a list of items.\n",
    "- Use two pointers approach to swap the elements.\n",
    "- Run the loop till half of the length of the list times."
   ]
  },
  {
   "cell_type": "code",
   "execution_count": 15,
   "id": "56809795-6ecb-411b-8108-2165aa5c6f77",
   "metadata": {},
   "outputs": [
    {
     "name": "stdout",
     "output_type": "stream",
     "text": [
      "Given list [1, 2, 3]\n",
      "Reversed list [3, 2, 1]\n"
     ]
    }
   ],
   "source": [
    "list13 = [1,2,3]\n",
    "print(\"Given list\",list13)\n",
    "\n",
    "for i in range(len(list13)//2):\n",
    "    list13[i],list13[len(list13)-1-i] = list13[len(list13)-1-i],list13[i]\n",
    "    \n",
    "print(\"Reversed list\",list13)"
   ]
  },
  {
   "cell_type": "markdown",
   "id": "57248673-0bd1-4bab-988a-c5cf3ed55399",
   "metadata": {},
   "source": [
    "## 14) Write a Python program to find the common elements between two lists using a for loop."
   ]
  },
  {
   "cell_type": "markdown",
   "id": "21bed4f8-4739-4013-8f2c-ee2be0a0e1cb",
   "metadata": {},
   "source": [
    "### Ans 14)\n",
    "\n",
    "#### Steps:\n",
    "- Create/take two list of elements.\n",
    "- Traverse through first list of elements and by running nested loop search each element in 2nd list.\n",
    "- If any element is same print it."
   ]
  },
  {
   "cell_type": "code",
   "execution_count": 16,
   "id": "7794f3e5-0f65-4f09-b70a-3594e7f06c0f",
   "metadata": {},
   "outputs": [
    {
     "name": "stdout",
     "output_type": "stream",
     "text": [
      "Given lists : \n",
      "List 1 : [1, 2, 3, 4, 5, 6]\n",
      "List 2 : [2, 4, 6, 7, 8, 9]\n",
      "Common element: 2\n",
      "Common element: 4\n",
      "Common element: 6\n"
     ]
    }
   ],
   "source": [
    "# Create/take two list of elements.\n",
    "lis14_1 = [1,2,3,4,5,6]\n",
    "lis14_2 = [2,4,6,7,8,9]\n",
    "print(f\"Given lists : \\nList 1 : {lis14_1}\\nList 2 : {lis14_2}\")\n",
    "\n",
    "# Traverse through first list of elements and by running nested loop search each element in 2nd list.\n",
    "# If any element is same print it.\n",
    "for i in lis14_1:\n",
    "    for j in lis14_2:\n",
    "        if j == i:\n",
    "            print('Common element:',j)"
   ]
  },
  {
   "cell_type": "markdown",
   "id": "4d7e4801-4ef6-4512-b6fe-75be366ccbb6",
   "metadata": {},
   "source": [
    "## 15) Explain how to use a for loop to iterate through the keys and values of a dictionary in Python."
   ]
  },
  {
   "cell_type": "markdown",
   "id": "e5448edd-3d0c-408f-bcd1-7876b3bf91f1",
   "metadata": {},
   "source": [
    "### Ans 15)\n",
    "- Create a dictionary of keys and values.\n",
    "- To iterate through keys of a dictionary I can use dictionary's keys() function that returns a list of all keys then i can iterate through it.\n",
    "- Similarly to iterate through values of a dictionary I can use dictionary's values() function that returns a list of all values then i can iterate through it.\n",
    "- Following is the code :"
   ]
  },
  {
   "cell_type": "code",
   "execution_count": 12,
   "id": "863f1276-4710-49cf-8408-b440ea2d5cb3",
   "metadata": {},
   "outputs": [
    {
     "name": "stdout",
     "output_type": "stream",
     "text": [
      "Iterating through keys of a dictionary : \n",
      "1 2 3 \n",
      "\n",
      "Iterating through value of a dictionary : \n",
      "one two three "
     ]
    }
   ],
   "source": [
    "# create a dictionary\n",
    "dic = {1:'one',2:'two',3:'three'}\n",
    "\n",
    "print(\"Iterating through keys of a dictionary : \")\n",
    "for key in dic.keys():\n",
    "    print(key, end = ' ')\n",
    "    \n",
    "print(\"\\n\\nIterating through value of a dictionary : \")\n",
    "for value in dic.values():\n",
    "    print(value, end = ' ')"
   ]
  },
  {
   "cell_type": "markdown",
   "id": "ddf6f3aa-60f2-47bc-8774-763fb7504736",
   "metadata": {},
   "source": [
    "## 16) Write a Python program to find the GCD (Greatest Common Divisor) of two numbers using a forloop.\n"
   ]
  },
  {
   "cell_type": "markdown",
   "id": "79b8545e-2c48-4957-b056-1782ba8fb2dc",
   "metadata": {},
   "source": [
    "### Ans 16)\n",
    "\n",
    "1) The GCD of two integers a and b is the largest number that divides both of a and b (without leaving a remainder or remainder is zero).\n",
    "\n",
    "#### Steps:\n",
    "- Take two numbers from user.\n",
    "- Find the min of both numbers.\n",
    "- Generate a sequence of numbers from that min value till 2.\n",
    "- Start dividing both given numbers from that min value continuously till 2.\n",
    "- Return the number as GCD that can divide both the numbers."
   ]
  },
  {
   "cell_type": "code",
   "execution_count": 17,
   "id": "c2ff9050-f793-4bce-ace7-d6c285864e20",
   "metadata": {},
   "outputs": [
    {
     "name": "stdout",
     "output_type": "stream",
     "text": [
      "Enter following values to find the GCD of two numbers\n"
     ]
    },
    {
     "name": "stdin",
     "output_type": "stream",
     "text": [
      "Enter value of a :  12\n",
      "Enter value of b :  48\n"
     ]
    },
    {
     "name": "stdout",
     "output_type": "stream",
     "text": [
      "Greatest common divisor of two given numbers is : 12\n"
     ]
    }
   ],
   "source": [
    "print(\"Enter following values to find the GCD of two numbers\")\n",
    "a = int(input(\"Enter value of a : \"))\n",
    "b = int(input(\"Enter value of b : \"))\n",
    "\n",
    "for i in reversed(range(2,min(a,b)+1)):\n",
    "    if a % i == 0 and b % i == 0:\n",
    "        print(f\"Greatest common divisor of two given numbers is : {i}\")\n",
    "        break\n",
    "else:\n",
    "    print(f\"Greatest common divisor of two given numbers is : {1}\")\n"
   ]
  },
  {
   "cell_type": "markdown",
   "id": "b24da759-6201-4cba-8c31-9509ae0c334a",
   "metadata": {},
   "source": [
    "## 17) Create a Python program that checks if a string is a palindrome using a for loop.\n"
   ]
  },
  {
   "cell_type": "markdown",
   "id": "ee66bdae-fa3f-4198-949b-d93c3b312bf8",
   "metadata": {},
   "source": [
    "## Ans 17) \n",
    "\n",
    "1) Palindrome String : A string is said to be palindrome if first half of the string is same as the reversed of second half of the string.\n",
    "\n",
    "### Steps:\n",
    "- Take the string from the user\n",
    "- First check the length of the string.\n",
    "- 1) If the length is odd then string is not a palindrome.\n",
    "- 2) If legth is even then executes below steps.\n",
    "- Divide the string into two parts i.e str1 and str2\n",
    "- Reverse the second half of the string i.e str2.\n",
    "- Now compare both of the half of the string.\n",
    "- If both are same,given string is palindrome else not."
   ]
  },
  {
   "cell_type": "code",
   "execution_count": 18,
   "id": "012efe06-2240-493f-adcd-feb4a02d1475",
   "metadata": {},
   "outputs": [
    {
     "name": "stdin",
     "output_type": "stream",
     "text": [
      "Enter the string to check, is it palindrome or not? ahaaha\n"
     ]
    },
    {
     "name": "stdout",
     "output_type": "stream",
     "text": [
      "Given string is a Palindrome.\n"
     ]
    }
   ],
   "source": [
    "# 1) Take the string from the user\n",
    "input_str = input(\"Enter the string to check, is it palindrome or not?\")\n",
    "\n",
    "# 2) First check the length of the string.\n",
    "str_len = len(input_str)\n",
    "\n",
    "if str_len%2 != 0:\n",
    "    print(f\"Given string is not a Palindrome.\")\n",
    "else:\n",
    "    # divide the string into two parts\n",
    "    str1 = input_str[:str_len//2]\n",
    "    str2 = input_str[str_len//2:]\n",
    "    \n",
    "    # reverse the str2 \n",
    "    str2 = str2[::-1]\n",
    "    \n",
    "    # comapre both the string\n",
    "    if str1 == str2:\n",
    "        print(f\"Given string is a Palindrome.\")\n",
    "    else:\n",
    "        print(f\"Given string is not a Palindrome.\")"
   ]
  },
  {
   "cell_type": "markdown",
   "id": "2681001a-719d-46b2-9582-152bc80fded9",
   "metadata": {},
   "source": [
    "## 18) Write a Python program to remove duplicates from a list using a for loop.\n"
   ]
  },
  {
   "cell_type": "markdown",
   "id": "5c38b1f7-714d-4c9a-ac28-494610dbc32f",
   "metadata": {},
   "source": [
    "## Ans 18)\n",
    "\n",
    "#### Steps:\n",
    "- Take/create a list of duplicate elements.\n",
    "- Traverse through the list and count the each element occurence.\n",
    "- If the count of any element is greater than 1 that means there is/are duplicate value/s.\n",
    "- To remove duplicate value run the loop number of occurence of element minus 1 times so that we can keep original element.\n",
    "- Print the list."
   ]
  },
  {
   "cell_type": "code",
   "execution_count": 19,
   "id": "69feb131-9929-41a8-a94a-f2663344636b",
   "metadata": {},
   "outputs": [
    {
     "name": "stdout",
     "output_type": "stream",
     "text": [
      "Given list  : [1, 1, 2, 3, 3, 4, 3, 6] \n",
      "List after removing duplicate values : [1, 2, 4, 3, 6] \n"
     ]
    }
   ],
   "source": [
    "# Take/create a list of duplicate elements.\n",
    "list20 = [1,1,2,3,3,4,3,6]\n",
    "\n",
    "print(f\"Given list  : {list20} \")\n",
    "# Traverse through the list and count the each element occurence.\n",
    "# If the count of any element is greater than 1 that means there is/are duplicate value/s.\n",
    "# To remove duplicate value run the loop number of occurence of element minus 1 times so that we can keep original element.\n",
    "for ele in list20:\n",
    "    if list20.count(ele) > 1:\n",
    "        for i in range(list20.count(ele) -1):\n",
    "            list20.remove(ele)\n",
    "            \n",
    "# Print the list.      \n",
    "print(f\"List after removing duplicate values : {list20} \")"
   ]
  },
  {
   "cell_type": "markdown",
   "id": "edb77ef9-d91a-4d48-b634-7f04a86d4ef8",
   "metadata": {},
   "source": [
    "## 19) Create a Python program that counts the number of words in a sentence using a for loop."
   ]
  },
  {
   "cell_type": "markdown",
   "id": "da46183c-b80a-4f12-983a-dd48cd8996f4",
   "metadata": {},
   "source": [
    "## Ans 19)\n",
    "\n",
    "#### Steps :\n",
    "- Take the /sentence/string.\n",
    "- Convert string into list of words using split() function.\n",
    "- Use a counter and iterate through the list and count each element.\n",
    "- Print count of words."
   ]
  },
  {
   "cell_type": "code",
   "execution_count": 20,
   "id": "5ef953a4-ffd4-4558-984c-760c3f8f8384",
   "metadata": {},
   "outputs": [
    {
     "name": "stdout",
     "output_type": "stream",
     "text": [
      "Given string is : honesty is the best policy\n",
      "Number of words : 5\n"
     ]
    }
   ],
   "source": [
    "# Take the string.\n",
    "s19 = \"honesty is the best policy\"\n",
    "\n",
    "# Convert string into list.\n",
    "s18_list = s19.split()\n",
    "count = 0\n",
    "for word in s18_list:\n",
    "    count += 1\n",
    "    \n",
    "print(f\"Given string is : {s19}\\nNumber of words : {count}\")"
   ]
  },
  {
   "cell_type": "markdown",
   "id": "4a8e9111-22e4-4c7c-bfcd-f87e6bf06416",
   "metadata": {},
   "source": [
    "## 20) Write a Python program to find the sum of all odd numbers from 1 to 50 using a for loop."
   ]
  },
  {
   "cell_type": "markdown",
   "id": "3e265877-5199-49fc-b446-13b24df88900",
   "metadata": {},
   "source": [
    "### Ans 20)\n",
    "\n",
    "#### Steps:\n",
    "- Initialise the sum varaible to store the sum of all odd numbers.\n",
    "- Generate odd numbers from 1 to 50.\n",
    "- Calculate the sum in each iteration.\n",
    "- Print the sum."
   ]
  },
  {
   "cell_type": "code",
   "execution_count": 22,
   "id": "8ac9bd08-68e1-4298-bbc6-a1fd63736637",
   "metadata": {},
   "outputs": [
    {
     "name": "stdout",
     "output_type": "stream",
     "text": [
      "Sum of odd numbers from 1 to 50 :  625\n"
     ]
    }
   ],
   "source": [
    "sum_odd = 0\n",
    "\n",
    "for oddnum in range(1,51,2):\n",
    "    sum_odd += oddnum\n",
    "    \n",
    "print(\"Sum of odd numbers from 1 to 50 : \",sum_odd)"
   ]
  },
  {
   "cell_type": "markdown",
   "id": "0c08a5d3-134a-442a-8f25-c21aa34d2384",
   "metadata": {},
   "source": [
    "## 21) Write a Python program that checks if a given year is a leap year using a for loop."
   ]
  },
  {
   "cell_type": "markdown",
   "id": "c57bd89f-d32e-43f8-9a2e-d0a909f823b8",
   "metadata": {},
   "source": [
    "### Ans 21)\n",
    "\n",
    "1) A year is said to be leap year if it satisfy the following conditions are satisfied:\n",
    "- i) The Year is a multiple of 400.\n",
    "- ii) The Year is a multiple of 4 and not a multiple of 100.\n",
    "\n",
    "#### Steps:\n",
    "- Take the year from user .\n",
    "- Take modulo division of the year with 400, if it is zero then year is multiple of 400.\n",
    "- Or take modulo division of the year with 4 , if it is zero and modulo division with 100 is not zero, then year is multiple of 4 and not a multiple of 100."
   ]
  },
  {
   "cell_type": "code",
   "execution_count": 26,
   "id": "937606c3-3503-437d-aa7d-a5c17e014086",
   "metadata": {},
   "outputs": [
    {
     "name": "stdin",
     "output_type": "stream",
     "text": [
      "Enter the year to check whether it is leap year or not :  2000\n"
     ]
    },
    {
     "name": "stdout",
     "output_type": "stream",
     "text": [
      "The year is leap year.\n"
     ]
    }
   ],
   "source": [
    "year = int(input(\"Enter the year to check whether it is leap year or not : \"))\n",
    "\n",
    "if (year%400 ==0) or (year%4==0 and year%100!=0):\n",
    "    print(\"The year is leap year.\")\n",
    "else:\n",
    "    print(\"The year is not a leap year.\")    "
   ]
  },
  {
   "cell_type": "markdown",
   "id": "b766f312-27c7-41e8-a512-9f4015805ac6",
   "metadata": {},
   "source": [
    "## 22) Create a Python program that calculates the square root of a number using a for loop.\n"
   ]
  },
  {
   "cell_type": "markdown",
   "id": "f157adad-106d-4686-8d22-c8c4fe2cef8b",
   "metadata": {},
   "source": [
    "### Ans 22)\n",
    "\n",
    "- The square root of a number is that factor of a number which when multiplied by itself gives the original number.\n",
    "- Approach : Repeated substraction method (This method is only applicable for perfect sqaure numbers.)\n",
    "- 1) Take a number.\n",
    "- 2) Continuously substract number with consequitive odd numbers.\n",
    "- 3) Repeat this step untill number becomes zero.\n",
    "- 4) Use a counter to count each iteration and return it."
   ]
  },
  {
   "cell_type": "code",
   "execution_count": 33,
   "id": "66bac72d-252a-4db8-ab3c-3b4cfc1a0cc0",
   "metadata": {},
   "outputs": [
    {
     "data": {
      "text/plain": [
       "4"
      ]
     },
     "execution_count": 33,
     "metadata": {},
     "output_type": "execute_result"
    }
   ],
   "source": [
    "def SquareRoot(num):\n",
    "    counter = 0\n",
    "    for i in range(1,num,2):\n",
    "        num = num - i\n",
    "        counter+=1\n",
    "        \n",
    "        if num == 0:\n",
    "            return counter\n",
    "SquareRoot(16)"
   ]
  },
  {
   "cell_type": "markdown",
   "id": "33e6a776-aade-4356-8050-6c4cb31c8401",
   "metadata": {},
   "source": [
    "## 23) Write a Python program to find the LCM (Least Common Multiple) of two numbers using a for loop.\n"
   ]
  },
  {
   "cell_type": "markdown",
   "id": "ad0adf02-4a2b-44f0-ab44-844e0234d50c",
   "metadata": {},
   "source": [
    "### Ans 23)\n",
    "\n",
    "- Approach : 1) if a and b both are multiple of each other i.e (3,15) then greater of them will be the LCM.\n",
    "- 2) if a and b both are not multiple of each other i.e (2,5) then find the greater between them i.e 5 and increase this greater number till its next multiple i.e 10 then it will become mutiple of both i.e (2,10) and now greater i.e 10 will be the LCM.\n",
    "\n",
    "#### Steps:\n",
    "- Create a function and pass two numbers.\n",
    "- Find the greater between two numbers.\n",
    "- Run the loop till greater+1 times and continously check the condition whether greater number is multiple of both or not? if yes return the greater number, else increase the greater number by 1."
   ]
  },
  {
   "cell_type": "code",
   "execution_count": 29,
   "id": "c6654693-ae56-4834-b805-42c2b0bcb700",
   "metadata": {},
   "outputs": [],
   "source": [
    "def LCM(a,b):\n",
    "    # find the greater nuumber\n",
    "    greater = max(a,b)\n",
    "    \n",
    "    for i in range(greater+1):\n",
    "        if (greater%a == 0) and (greater%b == 0):\n",
    "            return greater\n",
    "        else:\n",
    "            greater+=1"
   ]
  },
  {
   "cell_type": "code",
   "execution_count": 30,
   "id": "48097571-f1e3-467a-97ec-fe844d86fa70",
   "metadata": {},
   "outputs": [
    {
     "data": {
      "text/plain": [
       "10"
      ]
     },
     "execution_count": 30,
     "metadata": {},
     "output_type": "execute_result"
    }
   ],
   "source": [
    "LCM(2,5)"
   ]
  },
  {
   "cell_type": "markdown",
   "id": "a16d6fef-fd9c-498e-88a4-acaed37623ad",
   "metadata": {},
   "source": [
    "# Topic : If else"
   ]
  },
  {
   "cell_type": "markdown",
   "id": "a683aa59-3c34-408f-b6da-6829dbf9604d",
   "metadata": {},
   "source": [
    "## 1) Write a Python program to check if a number is positive, negative, or zero using an if-else statement.\n"
   ]
  },
  {
   "cell_type": "markdown",
   "id": "ffac4705-3f39-4734-9435-739f12ef7933",
   "metadata": {},
   "source": [
    "### Ans 1)\n",
    "\n",
    "#### Steps:\n",
    "- Take a number from user.\n",
    "- If a number is greater than zero then number is positive.\n",
    "- If a number is less then zero then number is negative.\n",
    "- Else number is zero if it is equal to zero."
   ]
  },
  {
   "cell_type": "code",
   "execution_count": 34,
   "id": "c40c8b97-bcca-4b40-b88f-62f19e482f06",
   "metadata": {},
   "outputs": [
    {
     "name": "stdin",
     "output_type": "stream",
     "text": [
      "Enter a number to check whether it is positive , negative or zero : -5\n"
     ]
    },
    {
     "name": "stdout",
     "output_type": "stream",
     "text": [
      "Given number is negative.\n"
     ]
    }
   ],
   "source": [
    "num1 = int(input(\"Enter a number to check whether it is positive , negative or zero :\"))\n",
    "\n",
    "if num1 > 0:\n",
    "    print(\"Given number is positive.\")\n",
    "\n",
    "elif num1 < 0:\n",
    "    print(\"Given number is negative.\")\n",
    "else:\n",
    "    print(\"Given number is zero.\")\n",
    "        "
   ]
  },
  {
   "cell_type": "markdown",
   "id": "942531c9-e9e5-4a6d-9c5b-673cc10a7e04",
   "metadata": {},
   "source": [
    "## 2) Create a Python program that checks if a given number is even or odd using an if-else statement.\n"
   ]
  },
  {
   "cell_type": "markdown",
   "id": "d817072b-c8d6-4705-a61a-9049caa07505",
   "metadata": {},
   "source": [
    "### Ans 2)\n",
    "\n",
    "#### Steps:\n",
    "- Take a number from user.\n",
    "- If the number is divisible by 2 then number is even, else number is odd."
   ]
  },
  {
   "cell_type": "code",
   "execution_count": 35,
   "id": "affc626a-dbc4-4e4b-86e6-89c5895a53b0",
   "metadata": {},
   "outputs": [
    {
     "name": "stdin",
     "output_type": "stream",
     "text": [
      "Enter a number to check whether it is even or odd :  9\n"
     ]
    },
    {
     "name": "stdout",
     "output_type": "stream",
     "text": [
      "Given number is odd.\n"
     ]
    }
   ],
   "source": [
    "num2 = int(input(\"Enter a number to check whether it is even or odd : \"))\n",
    "\n",
    "if num2%2 == 0:\n",
    "    print(\"Given number is even.\")\n",
    "else:\n",
    "    print(\"Given number is odd.\")    "
   ]
  },
  {
   "cell_type": "markdown",
   "id": "68eb3572-695e-4af2-bf70-1fd2b18c3924",
   "metadata": {},
   "source": [
    "## 3) How can you use nested if-else statements in Python, and provide an example?\n"
   ]
  },
  {
   "cell_type": "markdown",
   "id": "51c84e40-8f80-416b-bc92-cb6c44c27825",
   "metadata": {
    "tags": []
   },
   "source": [
    "### Ans 3) \n",
    "\n",
    "- I can use nested if-else statements in such cases when there is/are condition(s) inside the conditions.\n",
    "- For ex- I have to create a list of eligible people for vote. For eligibility there are two conditions :\n",
    "- 1) Person should be INDIAN.\n",
    "- 2) Person'age should be 18 or above.\n",
    "- For this case I can use nested if-else statements as below :"
   ]
  },
  {
   "cell_type": "code",
   "execution_count": 14,
   "id": "6632242c-301a-442f-8585-2ae42b1070b9",
   "metadata": {},
   "outputs": [
    {
     "name": "stdout",
     "output_type": "stream",
     "text": [
      "You are eligible for Vote.\n"
     ]
    }
   ],
   "source": [
    "age = 18\n",
    "nationality = 'indian'\n",
    "\n",
    "if nationality.lower() == 'indian':\n",
    "    if age >= 18:\n",
    "        print(\"You are eligible for Vote.\")\n",
    "    else:\n",
    "        print(\"You are not eligible for Vote.\")\n",
    "else:\n",
    "    print(\"You are not eligible for Vote.\")"
   ]
  },
  {
   "cell_type": "markdown",
   "id": "0a437575-a077-4b7b-a8c7-76fdc76e354d",
   "metadata": {},
   "source": [
    "## 4) Write a Python program to determine the largest of three numbers using if-else."
   ]
  },
  {
   "cell_type": "markdown",
   "id": "b422b9de-2c6c-4e74-a4ed-735c9daa4c9b",
   "metadata": {},
   "source": [
    "### Ans 4)\n",
    "\n",
    "#### Steps:\n",
    "- Take three numbers A,B and C from user.\n",
    "- If number A is greater than B then A can > C , if yes then A is largest.Else C is the largest.\n",
    "- If number B is greater than C then B is largest.Else C is the largest."
   ]
  },
  {
   "cell_type": "code",
   "execution_count": 36,
   "id": "342d3a52-57b4-49e2-9e27-a9b75299e309",
   "metadata": {},
   "outputs": [
    {
     "name": "stdin",
     "output_type": "stream",
     "text": [
      "Enter value of A : 2\n",
      "Enter value of B : 10\n",
      "Enter value of C : 5\n"
     ]
    },
    {
     "name": "stdout",
     "output_type": "stream",
     "text": [
      "10 is the largest number.\n"
     ]
    }
   ],
   "source": [
    "a4 = int(input(\"Enter value of A :\"))\n",
    "b4 = int(input(\"Enter value of B :\"))\n",
    "c4 = int(input(\"Enter value of C :\"))\n",
    "\n",
    "if a4 > b4:\n",
    "    if a4 > c4:\n",
    "        print(f\"{a4} is the largest number.\")\n",
    "    else:\n",
    "        print(f\"{c4} is the largest number.\")     \n",
    "        \n",
    "elif b4>c4:\n",
    "    print(f\"{b4} is the largest number.\")    \n",
    "else:\n",
    "    print(f\"{c4} is the largest number.\")    "
   ]
  },
  {
   "cell_type": "markdown",
   "id": "ec2a363b-2700-462e-aa1f-91162a039437",
   "metadata": {},
   "source": [
    "## 5) Write a Python program that calculates the absolute value of a number using if-else.\n"
   ]
  },
  {
   "cell_type": "markdown",
   "id": "9ebadc42-53d1-4edf-81ef-9ee3d4d8d3b5",
   "metadata": {},
   "source": [
    "### Ans 5)\n",
    "\n",
    "1) The Python abs() function return the absolute value. The absolute value of any number is always positive it removes the negative sign of a number in Python.\n",
    "\n",
    "#### Steps:\n",
    "- Take a number from user.\n",
    "- If number is greater than zero then number is positive, return the number as it is.\n",
    "- If number is less than zero then number is negative, now do following steps:\n",
    "- 1) convert number into string.\n",
    "- 2) replace negative sign ('-') with nothing ('').\n",
    "- 3) Convert string again into integer and return it."
   ]
  },
  {
   "cell_type": "code",
   "execution_count": 37,
   "id": "d56939a5-7390-42fd-b871-f656d76a6b20",
   "metadata": {},
   "outputs": [
    {
     "name": "stdin",
     "output_type": "stream",
     "text": [
      "Enter a number to get absolute of it :  -5\n"
     ]
    },
    {
     "name": "stdout",
     "output_type": "stream",
     "text": [
      "Absolute value is :  5\n"
     ]
    }
   ],
   "source": [
    "num5 = int(input(\"Enter a number to get absolute of it : \"))\n",
    "\n",
    "if num5 > 0:\n",
    "    print(\"Absolute value is : \",num5)\n",
    "else:\n",
    "    num5 = int(str(num5).replace('-',''))\n",
    "    print(\"Absolute value is : \",num5)"
   ]
  },
  {
   "cell_type": "markdown",
   "id": "6294cf44-7f72-4f56-9b6d-9314f5f4f1d8",
   "metadata": {},
   "source": [
    "## 6) Create a Python program that checks if a given character is a vowel or consonant using if-else"
   ]
  },
  {
   "cell_type": "markdown",
   "id": "8b0a75b0-e28b-4034-bc52-a28a38362076",
   "metadata": {},
   "source": [
    "### Ans 6)\n",
    "\n",
    "#### Steps:\n",
    "- Take a character from user.\n",
    "- Check whether character is in list of vowel if yes then character is vowel else it is consonant."
   ]
  },
  {
   "cell_type": "code",
   "execution_count": 38,
   "id": "67240b40-021a-441d-9a78-595df7aa0b1e",
   "metadata": {},
   "outputs": [
    {
     "name": "stdin",
     "output_type": "stream",
     "text": [
      "Enter any character to check whether it is vowel or a consonant :  n\n"
     ]
    },
    {
     "name": "stdout",
     "output_type": "stream",
     "text": [
      "Character is a consonant.\n"
     ]
    }
   ],
   "source": [
    "char6 = input(\"Enter any character to check whether it is vowel or a consonant : \")\n",
    "\n",
    "if char6.lower() in ['a','e','i','o','u']:\n",
    "    print(\"Character is vowel.\")\n",
    "else:\n",
    "    print(\"Character is a consonant.\")    "
   ]
  },
  {
   "cell_type": "markdown",
   "id": "f46239a5-506b-4cb6-a658-17ac303b544e",
   "metadata": {},
   "source": [
    "## 7) Write a Python program to determine if a user is eligible to vote based on their age using if-else.\n"
   ]
  },
  {
   "cell_type": "markdown",
   "id": "1fb22f94-cade-4e98-b018-9b306dc5635e",
   "metadata": {},
   "source": [
    "### Ans 7)\n",
    "\n",
    "#### Steps:\n",
    "- Take age as an input from user.\n",
    "- If the age is greater than or equal to 18 then person is eligible to vote, else person is not eligible to vote."
   ]
  },
  {
   "cell_type": "code",
   "execution_count": 39,
   "id": "0e98ef4e-1edd-49d3-947a-5eb78f9d4adf",
   "metadata": {},
   "outputs": [
    {
     "name": "stdin",
     "output_type": "stream",
     "text": [
      "Enter your age to check whether you are eligible to vote or not :  23\n"
     ]
    },
    {
     "name": "stdout",
     "output_type": "stream",
     "text": [
      "Person/You are eligible to vote.\n"
     ]
    }
   ],
   "source": [
    "age = int(input(\"Enter your age to check whether you are eligible to vote or not : \"))\n",
    "\n",
    "if age >= 18 :\n",
    "    print(\"Person/You are eligible to vote.\")\n",
    "else:\n",
    "    print(\"Person/You are not eligible to vote.\")    "
   ]
  },
  {
   "cell_type": "markdown",
   "id": "20db882f-2578-447c-8ba4-f0f752f98edf",
   "metadata": {},
   "source": [
    "## 8) Create a Python program that calculates the discount amount based on the purchase amount using if-else.\n"
   ]
  },
  {
   "cell_type": "markdown",
   "id": "eb50eb8a-231e-43be-87b2-21499f7c2a3f",
   "metadata": {},
   "source": [
    "### Ans 8)\n",
    "\n",
    "1) Let's say, If purchase amount is less than 500Rs then no discount.\n",
    "2) If purchase amount is in between 500Rs-1000Rs, give the discount of 5%.\n",
    "3) If purchase amount is in between 1000Rs-2000Rs, give the discount of 10%.\n",
    "4) If purchase amount is equal to or more than 2000, give the discount of 20%.\n",
    "\n",
    "#### Steps:\n",
    "- Take the purchase amount from user.\n",
    "- Check the above mentioned condition for amount, take the actions accordingly.\n",
    "- Display the purchase amount, discount amount, and net amount."
   ]
  },
  {
   "cell_type": "code",
   "execution_count": 40,
   "id": "43852aee-4fac-45a1-84ac-7e25a8e80ade",
   "metadata": {},
   "outputs": [
    {
     "name": "stdin",
     "output_type": "stream",
     "text": [
      "Enter the purchase amount to calculate the diccounted price on it :  1000\n"
     ]
    },
    {
     "name": "stdout",
     "output_type": "stream",
     "text": [
      "Entered Purchese Amount :  1000Rs.\n",
      "Discounted Amount :  100.0Rs.\n",
      "Net Amount :  900.0Rs.\n"
     ]
    }
   ],
   "source": [
    "amount8 = int(input(\"Enter the purchase amount to calculate the diccounted price on it : \"))\n",
    "\n",
    "if amount8 < 500 :\n",
    "    discount_price = 0\n",
    "elif amount8 >= 500 and amount8 < 1000 :\n",
    "    # give 5% discount : \n",
    "    discount_price = (amount8 * 0.05)\n",
    "elif amount8 >= 1000 and amount8 < 2000 :\n",
    "    # give 10% discount : \n",
    "    discount_price = (amount8 * 0.1)\n",
    "else:\n",
    "    # give 20% discount for money 2000 or more: \n",
    "    discount_price = (amount8 * 0.2)\n",
    "    \n",
    "    \n",
    "print(f\"Entered Purchese Amount :  {amount8}Rs.\\nDiscounted Amount :  {discount_price}Rs.\\nNet Amount :  {amount8 - discount_price}Rs.\")\n",
    "\n",
    "    \n",
    "    \n"
   ]
  },
  {
   "cell_type": "markdown",
   "id": "6464d89a-123a-4db3-b1fd-3fe6f69ab6dd",
   "metadata": {},
   "source": [
    "## 9) Write a Python program to check if a number is within a specified range using if-else."
   ]
  },
  {
   "cell_type": "markdown",
   "id": "36a2bfeb-81b6-475d-afed-6490bf1018dc",
   "metadata": {},
   "source": [
    "### Ans 9)\n",
    "\n",
    "#### Steps:\n",
    "- Take a number from the user.\n",
    "- Create any range let say 1-10.\n",
    "- If number is this range then return yes else no"
   ]
  },
  {
   "cell_type": "code",
   "execution_count": 42,
   "id": "a14df829-a6b9-42eb-aa3c-54c82cb38bf0",
   "metadata": {},
   "outputs": [
    {
     "name": "stdin",
     "output_type": "stream",
     "text": [
      "Enter a number to check whether it is in range of 1-10 or not :  10\n"
     ]
    },
    {
     "name": "stdout",
     "output_type": "stream",
     "text": [
      "Given number is in range.\n"
     ]
    }
   ],
   "source": [
    "num9 = int(input(\"Enter a number to check whether it is in range of 1-10 or not : \"))\n",
    "\n",
    "if num9 >=1 and num9<=10 :\n",
    "    print(\"Given number is in range.\")\n",
    "else:\n",
    "    print(\"Given number is not in range.\")"
   ]
  },
  {
   "cell_type": "markdown",
   "id": "299805b4-ed96-4d93-82f7-983f38a65d40",
   "metadata": {},
   "source": [
    "## 10) Create a Python program that determines the grade of a student based on their score using if-else."
   ]
  },
  {
   "cell_type": "markdown",
   "id": "b27b0a79-bbfd-4d80-8a1e-a69e8a75082f",
   "metadata": {},
   "source": [
    "### Ans 10)\n",
    "\n",
    "#### Steps:\n",
    "- Take student's score from user.\n",
    "- Create three range :\n",
    "- 1) Grade A : >= 90 - 80 marks\n",
    "- 2) Grade B : 75 - 80 marks\n",
    "- 3) Grade C : below 75 marks\n",
    "- Return the grade according to the score range."
   ]
  },
  {
   "cell_type": "code",
   "execution_count": 43,
   "id": "cfa5e028-13bb-488a-9a8a-cc5d136b7f36",
   "metadata": {},
   "outputs": [
    {
     "name": "stdin",
     "output_type": "stream",
     "text": [
      "Enter your score to find Grade :  60\n"
     ]
    },
    {
     "name": "stdout",
     "output_type": "stream",
     "text": [
      "Grade C\n"
     ]
    }
   ],
   "source": [
    "score10 = int(input(\"Enter your score to find Grade : \"))\n",
    "\n",
    "if score10 >= 80 :\n",
    "    print(\"Grade A\")\n",
    "elif score10 <=79 and score10 > 74:\n",
    "    print(\"Grade B\")    \n",
    "else:\n",
    "    print(\"Grade C\")    "
   ]
  },
  {
   "cell_type": "markdown",
   "id": "c5dd9842-9980-49d6-a5b5-86e988ba8dfc",
   "metadata": {},
   "source": [
    "## 11) Write a Python program to check if a string is empty or not using if-else."
   ]
  },
  {
   "cell_type": "markdown",
   "id": "c2d8d2aa-1163-48f5-9a8e-5072686982a2",
   "metadata": {},
   "source": [
    "### Ans 11)\n",
    "\n",
    "#### Steps:\n",
    "- Take a string from user.\n",
    "- If length of the string is 0 then string is empyt else not empty."
   ]
  },
  {
   "cell_type": "code",
   "execution_count": 44,
   "id": "54b76d12-4d87-458b-8120-6ba5dd697520",
   "metadata": {},
   "outputs": [
    {
     "name": "stdin",
     "output_type": "stream",
     "text": [
      "Enter a string to check whether it is empty or not :  \n"
     ]
    },
    {
     "name": "stdout",
     "output_type": "stream",
     "text": [
      "String is empty\n"
     ]
    }
   ],
   "source": [
    "string11 = input(\"Enter a string to check whether it is empty or not : \")\n",
    "\n",
    "if len(string11) > 0:\n",
    "    print(\"String is not empty.\")\n",
    "else:\n",
    "    print(\"String is empty\")"
   ]
  },
  {
   "cell_type": "markdown",
   "id": "4d37737b-7120-4da5-afc5-2cce920c1bd8",
   "metadata": {},
   "source": [
    "## 12) Create a Python program that identifies the type of a triangle (e.g., equilateral, isosceles, or scalene) based on input values using if-else."
   ]
  },
  {
   "cell_type": "markdown",
   "id": "e79eaa9c-cf93-465a-9520-09ab93e65fe8",
   "metadata": {},
   "source": [
    "### Ans 12)\n",
    "\n",
    "1) A triangle can be classified as equilateral, isosceles or scalene if :\n",
    "- 1) equilateral : if all three sides of a triangle are same i.e a = b = c.\n",
    "- 2) isosceles : if any two sides of a triangle are same i.e a = b or b = c or c = a \n",
    "- 1) scalene : if none of the side of a triangle is same i.e a != b != c.\n",
    "\n",
    "#### Steps:\n",
    "- Take three side of a triangle from user.\n",
    "- if all three sides of a triangle are same i.e a = b = c, then triangle is equilaterl.\n",
    "- if any two sides of a triangle are same i.e a = b or b = c or c = a , then triangle is isosceles.\n",
    "- if none of the side of a triangle is same i.e a != b != c, then triangle is scalene."
   ]
  },
  {
   "cell_type": "code",
   "execution_count": 45,
   "id": "b36bab74-57c5-48ee-8823-87668ce35c57",
   "metadata": {},
   "outputs": [
    {
     "name": "stdin",
     "output_type": "stream",
     "text": [
      "Enter first side of triangle :  2\n",
      "Enter second side of triangle :  2\n",
      "Enter third side of triangle :  6\n"
     ]
    },
    {
     "name": "stdout",
     "output_type": "stream",
     "text": [
      "Triangle is Isosceles.\n"
     ]
    }
   ],
   "source": [
    "a12 = int(input(\"Enter first side of triangle : \"))\n",
    "b12 = int(input(\"Enter second side of triangle : \"))\n",
    "c12 = int(input(\"Enter third side of triangle : \"))\n",
    "\n",
    "if a12 == b12 == c12:\n",
    "    print(\"Triangle is Equilateral.\")\n",
    "elif a12 == b12 or b12 == c12 or c12 == a12 :\n",
    "    print(\"Triangle is Isosceles.\")   \n",
    "elif a12 !=b12 != c12 :\n",
    "    print(\"Triangle is Scalene.\")    \n",
    "    \n",
    "    "
   ]
  },
  {
   "cell_type": "markdown",
   "id": "aacfa4e6-9cc1-486e-837d-276b6db7921e",
   "metadata": {},
   "source": [
    "## 13) Write a Python program to determine the day of the week based on a user-provided number using if-else."
   ]
  },
  {
   "cell_type": "markdown",
   "id": "6b74db79-391b-49e7-9ce3-be95c07f1895",
   "metadata": {},
   "source": [
    "### Ans 13) \n",
    "\n",
    "1) Week days : {1:'Monday',2:'Tuesday',3:'Wednesday',4:'Thursday',5:'Friday',6:'Saturday',7:'Sunday',}\n",
    "\n",
    "#### Steps:\n",
    "- Take a number from user.\n",
    "- Number should be greater than 1 and less than 13.\n",
    "- Check the day accordingly and print it."
   ]
  },
  {
   "cell_type": "code",
   "execution_count": 46,
   "id": "914bad4b-c44e-412a-9f30-4f06481c1567",
   "metadata": {},
   "outputs": [
    {
     "name": "stdin",
     "output_type": "stream",
     "text": [
      "Enter a number to determine the day of the week :  5\n"
     ]
    },
    {
     "name": "stdout",
     "output_type": "stream",
     "text": [
      "Day is Friday\n"
     ]
    }
   ],
   "source": [
    "day12 = int(input(\"Enter a number to determine the day of the week : \"))\n",
    "\n",
    "if day12 > 0 and day12 < 8:\n",
    "    if day12 == 1:\n",
    "        print(\"Day is Monday\")\n",
    "    elif day12 == 2:\n",
    "        print(\"Day is Tuesday\")\n",
    "    elif day12 == 3:\n",
    "        print(\"Day is Wednesday\")\n",
    "    elif day12 == 4:\n",
    "        print(\"Day is Thursday\")\n",
    "    elif day12 == 5:\n",
    "        print(\"Day is Friday\")\n",
    "    elif day12 == 6:\n",
    "        print(\"Day is Saturday\")\n",
    "    else :\n",
    "        print(\"Day is Sunday\")\n",
    "        \n",
    "else:\n",
    "    print(\"Enter a valid number.\")"
   ]
  },
  {
   "cell_type": "markdown",
   "id": "2c2897e4-6555-43bb-bf64-635e8c063d27",
   "metadata": {},
   "source": [
    "## 14) Create a Python program that checks if a given year is a leap year using both if-else and a function"
   ]
  },
  {
   "cell_type": "markdown",
   "id": "db7c2c7c-b08f-4c62-8b66-cba5909c59db",
   "metadata": {},
   "source": [
    "### Ans 14)\n",
    "\n",
    "1) A year is said to be leap year if it satisfy the following conditions are satisfied:\n",
    "- i) The Year is a multiple of 400.\n",
    "- ii) The Year is a multiple of 4 and not a multiple of 100.\n",
    "\n",
    "#### Steps:\n",
    "- Take the year from user .\n",
    "- Take modulo division of the year with 400, if it is zero then year is multiple of 400.\n",
    "- Or take modulo division of the year with 4 , if it is zero and modulo division with 100 is not zero, then year is multiple of 4 and not a multiple of 100."
   ]
  },
  {
   "cell_type": "code",
   "execution_count": 47,
   "id": "fc7d4d7d-1b95-4231-9ad8-54ca58d302e0",
   "metadata": {},
   "outputs": [
    {
     "name": "stdin",
     "output_type": "stream",
     "text": [
      "Enter the year to check whether it is leap year or not :  2000\n"
     ]
    },
    {
     "name": "stdout",
     "output_type": "stream",
     "text": [
      "The year is leap year.\n"
     ]
    }
   ],
   "source": [
    "year = int(input(\"Enter the year to check whether it is leap year or not : \"))\n",
    "\n",
    "if (year%400 ==0) or (year%4==0 and year%100!=0):\n",
    "    print(\"The year is leap year.\")\n",
    "else:\n",
    "    print(\"The year is not a leap year.\")    "
   ]
  },
  {
   "cell_type": "markdown",
   "id": "37486724-aa20-47c9-b309-86b8caaf845f",
   "metadata": {},
   "source": [
    "## 15) How do you use the \"assert\" statement in Python to add debugging checks within if-else blocks"
   ]
  },
  {
   "cell_type": "markdown",
   "id": "b6fddd0b-1c4e-4b20-b93b-d23c11646f36",
   "metadata": {},
   "source": [
    "### Ans 15)\n",
    "\n",
    "- Assertions are the debugging tools that help in the smooth flow of code. \n",
    "- Assertions are mainly assumptions that a programmer knows or always wants to be true and hence puts them in code so that failure of these doesn’t allow the code to execute further. \n",
    "- Assertion is the boolean expression that checks if the statement is True or False. \n",
    "- If the statement is true then it does nothing and continues the execution, but if the statement is False then it stops the execution of the program and throws an error."
   ]
  },
  {
   "cell_type": "code",
   "execution_count": 18,
   "id": "27935a3d-65b3-49e0-aff6-deca8cca745c",
   "metadata": {},
   "outputs": [
    {
     "ename": "AssertionError",
     "evalue": "Value of a is lesser than b",
     "output_type": "error",
     "traceback": [
      "\u001b[0;31m---------------------------------------------------------------------------\u001b[0m",
      "\u001b[0;31mAssertionError\u001b[0m                            Traceback (most recent call last)",
      "Cell \u001b[0;32mIn[18], line 4\u001b[0m\n\u001b[1;32m      1\u001b[0m a \u001b[38;5;241m=\u001b[39m \u001b[38;5;241m10\u001b[39m\n\u001b[1;32m      2\u001b[0m b \u001b[38;5;241m=\u001b[39m \u001b[38;5;241m100\u001b[39m\n\u001b[0;32m----> 4\u001b[0m \u001b[38;5;28;01massert\u001b[39;00m a\u001b[38;5;241m>\u001b[39mb , \u001b[38;5;124m'\u001b[39m\u001b[38;5;124mValue of a is lesser than b\u001b[39m\u001b[38;5;124m'\u001b[39m\n\u001b[1;32m      6\u001b[0m \u001b[38;5;28mprint\u001b[39m(a\u001b[38;5;241m>\u001b[39mb)\n",
      "\u001b[0;31mAssertionError\u001b[0m: Value of a is lesser than b"
     ]
    }
   ],
   "source": [
    "a = 10\n",
    "b = 100\n",
    "\n",
    "assert a>b , 'Value of a is lesser than b'\n",
    "\n",
    "print(a>b)"
   ]
  },
  {
   "cell_type": "markdown",
   "id": "7c6bb8f6-9585-4ca0-b69a-3128e0579bd9",
   "metadata": {},
   "source": [
    "## 16) Create a Python program that determines the eligibility of a person for a senior citizen discount based on age using if-else."
   ]
  },
  {
   "cell_type": "markdown",
   "id": "6c56efab-8cb3-4b01-a0b8-d97609225372",
   "metadata": {},
   "source": [
    "### Ans 16)\n",
    "\n",
    "1) Let's say, If age is less than 18 then no discount.\n",
    "2) If age is in between 40-50, give the discount of 5%.\n",
    "3) If age is in between 50-70, give the discount of 10%.\n",
    "4) If age is equal to or more than 70, give the discount of 20%.\n",
    "\n",
    "#### Steps:\n",
    "- Take the age from user.\n",
    "- Check the above mentioned condition for age, take the actions accordingly.\n",
    "- Display the discount amount."
   ]
  },
  {
   "cell_type": "code",
   "execution_count": 48,
   "id": "92800d17-649a-4138-92a9-bdf456430cd6",
   "metadata": {},
   "outputs": [
    {
     "name": "stdin",
     "output_type": "stream",
     "text": [
      "Enter the purchase amount to calculate the diccounted price on it :  50\n"
     ]
    },
    {
     "name": "stdout",
     "output_type": "stream",
     "text": [
      "Discount 10%.\n"
     ]
    }
   ],
   "source": [
    "age = int(input(\"Enter the purchase amount to calculate the diccounted price on it : \"))\n",
    "\n",
    "if age < 40 :\n",
    "    discount_price = 0\n",
    "elif age >= 40 and age < 50 :\n",
    "    print(\"Discount 5%.\")\n",
    "elif age >= 50 and age < 70 :\n",
    "    print(\"Discount 10%.\")\n",
    "else:\n",
    "    print(\"Discount 20%.\")"
   ]
  },
  {
   "cell_type": "markdown",
   "id": "85b2df3e-5b82-4a44-89cd-576a268b4695",
   "metadata": {},
   "source": [
    "## 17) Write a Python program to categorize a given character as uppercase, lowercase, or neither using if-else"
   ]
  },
  {
   "cell_type": "markdown",
   "id": "2317bf86-61e8-4670-b2bb-0ce60c465824",
   "metadata": {
    "tags": []
   },
   "source": [
    "### Ans 17)\n",
    "\n",
    "#### Steps:\n",
    "- Take a character from user.\n",
    "- By using islower and isupper() function check whether character is lower or uppercase.\n",
    "- If both conditions are false then character is special."
   ]
  },
  {
   "cell_type": "code",
   "execution_count": 50,
   "id": "571a1e58-596f-4ef3-acae-f41a333fb04f",
   "metadata": {},
   "outputs": [
    {
     "name": "stdin",
     "output_type": "stream",
     "text": [
      "Enter any character:  u\n"
     ]
    },
    {
     "name": "stdout",
     "output_type": "stream",
     "text": [
      "Character is lowercase.\n"
     ]
    }
   ],
   "source": [
    "char17 = input(\"Enter any character: \")\n",
    "\n",
    "if char17.islower() :\n",
    "    print(\"Character is lowercase.\")\n",
    "elif char17.isupper():\n",
    "    print(\"Character is uppercase.\")\n",
    "else:\n",
    "    print(\"Character is neither.\")"
   ]
  },
  {
   "cell_type": "markdown",
   "id": "5e8208f9-6dac-4fac-a389-6383d24d4d3a",
   "metadata": {},
   "source": [
    "## 18) Write a Python program to determine the roots of a quadratic equation using if-else.## "
   ]
  },
  {
   "cell_type": "markdown",
   "id": "3f1fe2e2-2e04-4c5c-8d9f-4ad07632b697",
   "metadata": {
    "tags": []
   },
   "source": [
    "### Ans 18) \n",
    "\n",
    "1) An equation of the form ax2 + bx + c = 0 is referred to as a quadratic equation.\n",
    "2) The values of x, which satisfy the quadratic equation, are known as the roots of the quadratic equation.\n",
    "3) formula to calculate the roots:\n",
    "- Root 1 : x1 = (-b + (b*b-4*a*c)**0.5)/2*a\n",
    "- Root 1 : x2 = (-b - (b*b-4*a*c)**0.5)/2*a\n",
    "\n",
    "#### Steps:\n",
    "- Take values of coefficient of quadractic equation from user.\n",
    "- Use the formula to calculate the roots.\n",
    "- print the roots of equation."
   ]
  },
  {
   "cell_type": "code",
   "execution_count": 51,
   "id": "348ba7ac-f226-41a1-983a-13cdd407246d",
   "metadata": {},
   "outputs": [
    {
     "name": "stdout",
     "output_type": "stream",
     "text": [
      "Quadratic equation : ax2 + bx + c = 0\n"
     ]
    },
    {
     "name": "stdin",
     "output_type": "stream",
     "text": [
      "Enter value of a :  1\n",
      "Enter value of b :  2\n",
      "Enter value of c :  1\n"
     ]
    },
    {
     "name": "stdout",
     "output_type": "stream",
     "text": [
      "Roots of the equation  :  (-1.0, -1.0)\n"
     ]
    }
   ],
   "source": [
    "print(\"Quadratic equation : ax2 + bx + c = 0\")\n",
    "\n",
    "a11 = int(input(\"Enter value of a : \"))\n",
    "b11 = int(input(\"Enter value of b : \"))\n",
    "c11 = int(input(\"Enter value of c : \"))\n",
    "\n",
    "\n",
    "x1 = (-b11 + (b11*b11-4*a11*c11)**0.5)/2*a11\n",
    "x2 = (-b11 - (b11*b11-4*a11*c11)**0.5)/2*a11\n",
    "\n",
    "root = (x1,x2)\n",
    "\n",
    "print(\"Roots of the equation  : \",root)"
   ]
  },
  {
   "cell_type": "markdown",
   "id": "c8a4cc8d-3731-46f5-9a7b-fc2ac9af4889",
   "metadata": {},
   "source": [
    "## 19) Create a Python program that checks if a given year is a century year or not using if-else.\n"
   ]
  },
  {
   "cell_type": "markdown",
   "id": "8491b714-341f-4f44-94fa-b68914b8948a",
   "metadata": {},
   "source": [
    "### Ans 19)\n",
    "\n",
    "1) A year is said to be century year if it is a multiple of 100.\n",
    "\n",
    "#### Steps:\n",
    "- Take a year from user.\n",
    "- check the condition for century year.\n",
    "- 1) if year is divisible by 100 then year is century year."
   ]
  },
  {
   "cell_type": "code",
   "execution_count": 52,
   "id": "9ea25ef4-9780-40a3-a118-6e3f25b82074",
   "metadata": {},
   "outputs": [
    {
     "name": "stdin",
     "output_type": "stream",
     "text": [
      "Enter a year :  2000\n"
     ]
    },
    {
     "name": "stdout",
     "output_type": "stream",
     "text": [
      "Given Year is a century year.\n"
     ]
    }
   ],
   "source": [
    "year = int(input(\"Enter a year : \"))\n",
    "\n",
    "\n",
    "if year%100 == 0:\n",
    "    print(\"Given Year is a century year.\")\n",
    "else:\n",
    "    print(\"Given Year is not a century year.\")        \n",
    "    "
   ]
  },
  {
   "cell_type": "markdown",
   "id": "818fe3b4-6739-41e1-b364-3fee4d364dd0",
   "metadata": {},
   "source": [
    "## 20) Write a Python program to determine if a given number is a perfect square using if-else."
   ]
  },
  {
   "cell_type": "markdown",
   "id": "6fd24ec5-8a2b-4bbd-8b4d-1c8fae3cc9b8",
   "metadata": {},
   "source": [
    "### Ans 20)\n",
    "\n",
    "#### Steps:\n",
    "- Take a number from user.\n",
    "- Calculate the squareroot of that number and store it in sqrt variable.\n",
    "- if square of sqrt is equal to given number then number is perfect square else not."
   ]
  },
  {
   "cell_type": "code",
   "execution_count": 9,
   "id": "5aeeb83c-3721-4965-98dc-83ba7767c5b0",
   "metadata": {},
   "outputs": [
    {
     "name": "stdin",
     "output_type": "stream",
     "text": [
      "Enter a number to check whether it is a perfect square or not :  25\n"
     ]
    },
    {
     "name": "stdout",
     "output_type": "stream",
     "text": [
      "Given number is perfect sqaure.\n"
     ]
    }
   ],
   "source": [
    "num20 = int(input(\"Enter a number to check whether it is a perfect square or not : \"))\n",
    "sqrt = num20**0.5\n",
    "if sqrt*sqrt == num20 :\n",
    "    print(\"Given number is perfect sqaure.\")\n",
    "else:\n",
    "    print(\"Given number is not a perfect sqaure.\")\n"
   ]
  },
  {
   "cell_type": "markdown",
   "id": "22c62000-6adb-4e1f-aa6b-818edf86c6a9",
   "metadata": {},
   "source": [
    "## 21) Explain the purpose of the \"continue\" and \"break\" statements within if-else loops.\n"
   ]
  },
  {
   "cell_type": "markdown",
   "id": "b6cfd155-7fc7-4fac-8ed4-643d3a09cf90",
   "metadata": {},
   "source": [
    "### Ans 21)\n",
    "\n",
    "- break and continue are the keywords which are used to interupt/control the flow of loop.\n",
    "- break is used to break the loop when a certain condition is matched.\n",
    "- continue is used to skip an iteration for a given condition.\n",
    "- following is the ex with code :"
   ]
  },
  {
   "cell_type": "code",
   "execution_count": 24,
   "id": "9e00dcd5-68a3-4ba1-9af2-074d14f81373",
   "metadata": {},
   "outputs": [
    {
     "name": "stdout",
     "output_type": "stream",
     "text": [
      "Ex- of break keyword\n",
      "0 1 2 3 4 \n",
      "Ex- of continue keyword\n",
      "0 1 2 3 4 6 7 8 9 "
     ]
    }
   ],
   "source": [
    "# generate a sequence from 0 to 10 but i want to break the loop when i reach to 5.\n",
    "print(\"Ex- of break keyword\")\n",
    "for i in range(10):\n",
    "    if i == 5:\n",
    "        break\n",
    "    else:\n",
    "        print(i, end= ' ')\n",
    "        \n",
    "        \n",
    "# generate a sequence from 0 to 10 but i want to skip the value 5.\n",
    "print(\"\\nEx- of continue keyword\")\n",
    "for i in range(10):\n",
    "    if i == 5:\n",
    "        continue\n",
    "    else:\n",
    "        print(i, end= ' ')"
   ]
  },
  {
   "cell_type": "markdown",
   "id": "e8c3be38-1102-4589-b9c4-d7271892bd1a",
   "metadata": {},
   "source": [
    "## 22) Create a Python program that calculates the BMI (Body Mass Index) of a person based on their weight and height using if-else."
   ]
  },
  {
   "cell_type": "markdown",
   "id": "da851cc9-3d16-4458-9e78-3f7e3471e287",
   "metadata": {},
   "source": [
    "### Ans 22)\n",
    "\n",
    "1) Body Mass Index (BMI)\n",
    "2) Formula : BMI = (weight (kg)/ height sqaure(m2))\n",
    "3) Categorization of BMI : \n",
    "- Below  18.5\t ; Underweight\n",
    "- 18.5 – 24.9\t ; Healthy Weight (normal)\n",
    "- 25.0 – 29.9\t ; Overweight\n",
    "- 30.0 and Above ; Obesity\n",
    "\n",
    "#### Steps:\n",
    "- Take weight in kg and height in meter from user.\n",
    "- Put the values in formula and find the BMI.\n",
    "- check which category it belogs to and print it."
   ]
  },
  {
   "cell_type": "code",
   "execution_count": 54,
   "id": "64b9c065-cea2-4e9b-b364-c6a39b247e60",
   "metadata": {},
   "outputs": [
    {
     "name": "stdin",
     "output_type": "stream",
     "text": [
      "Enter your weight in kg :  60\n",
      "Enter your height in meter :  132\n"
     ]
    },
    {
     "name": "stdout",
     "output_type": "stream",
     "text": [
      "You are underweight as your BMI is :  0.003443526170798898\n"
     ]
    }
   ],
   "source": [
    "weight = float(input(\"Enter your weight in kg : \"))\n",
    "height = float(input(\"Enter your height in meter : \"))\n",
    "\n",
    "BMI = (weight / (height*height))\n",
    "\n",
    "if BMI < 18.5:\n",
    "    print(\"You are underweight as your BMI is : \",BMI)\n",
    "elif BMI >= 18.5 and BMI <= 24.9:\n",
    "    print(\"Your weight normal as your BMI is : \",BMI)\n",
    "elif BMI >= 25.0 and BMI <= 29.9:\n",
    "    print(\"You are overweight as your BMI is : \",BMI)\n",
    "else:\n",
    "    print(\"You are Obese as your BMI is : \",BMI)\n",
    "    "
   ]
  },
  {
   "cell_type": "markdown",
   "id": "135f1a7d-9690-42c6-a51b-04e2def7d601",
   "metadata": {},
   "source": [
    "## 23) How can you use the \"filter()\" function with if-else statements to filter elements from a list?\n"
   ]
  },
  {
   "cell_type": "markdown",
   "id": "4ec1bd8a-03e1-4380-98b7-edb09f913ea8",
   "metadata": {},
   "source": [
    "### Ans 23) \n",
    "\n",
    "- Lets say there is list of even and odd numbers and i want to filter only even numbers.\n",
    "- To filter even numbers first I can pass list to filter function.\n",
    "- Second I can write boolean expression to check number is even or not."
   ]
  },
  {
   "cell_type": "markdown",
   "id": "ab9c3875-9704-40de-aef4-918d5bd92180",
   "metadata": {},
   "source": [
    "## 24) Write a Python program to determine if a given number is prime or not using if-else."
   ]
  },
  {
   "cell_type": "markdown",
   "id": "339aeb7f-770b-452d-b613-6965662a90c6",
   "metadata": {},
   "source": [
    "### Ans 24)\n",
    "\n",
    "#### Steps:\n",
    "- Take a year from user.\n",
    "- If year is divisble by any of its below number then year is not a prime number else year is a prime number."
   ]
  },
  {
   "cell_type": "code",
   "execution_count": 53,
   "id": "a896b316-f479-409b-8d64-11af674d51f1",
   "metadata": {},
   "outputs": [
    {
     "name": "stdin",
     "output_type": "stream",
     "text": [
      "Enter a number to check whether it is prime or not :  10\n"
     ]
    },
    {
     "name": "stdout",
     "output_type": "stream",
     "text": [
      "Number is not a prime number\n"
     ]
    }
   ],
   "source": [
    "inp_yr27 = int(input(\"Enter a number to check whether it is prime or not : \"))\n",
    "\n",
    "def check_prime_yr(num20):\n",
    "    if num20 > 0 :\n",
    "        if num20 == 1:\n",
    "            return print(\"Number is not a prime number.\")\n",
    "        elif num20 == 2:\n",
    "            return print(\"Number is a prime number.\")\n",
    "        else:\n",
    "            for i in range(2,num20):\n",
    "                if num20 % i == 0:\n",
    "                    return print(\"Number is not a prime number\")\n",
    "            return print(\"Number is a prime number\")  \n",
    "\n",
    "    else:\n",
    "        return print(\"Enter a Number greater than zero.\")\n",
    "\n",
    "check_prime_yr(inp_yr27)"
   ]
  },
  {
   "cell_type": "markdown",
   "id": "fe7da541-a275-49d1-8b8f-a069c3113adf",
   "metadata": {},
   "source": [
    "# Topic : Map"
   ]
  },
  {
   "cell_type": "markdown",
   "id": "feab39f1-8a0e-4437-97a3-84a33591e152",
   "metadata": {},
   "source": [
    "## 1) Explain the purpose of the `map()` function in Python and provide an example of how it can be used to apply a function to each element of an iterable.\n"
   ]
  },
  {
   "cell_type": "markdown",
   "id": "5f069807-021f-4337-984c-03d1fc5896f0",
   "metadata": {},
   "source": [
    "### Ans 1)\n",
    "- Map function is used to perform any operation or to apply any function on each element of an iterable.\n",
    "- map() function takes two parameters : a function, an iterable.\n",
    "- Following is an ex- of map function : "
   ]
  },
  {
   "cell_type": "code",
   "execution_count": null,
   "id": "c9b89309-338b-438c-8d33-95b4ba2de4a3",
   "metadata": {},
   "outputs": [],
   "source": [
    "# lets convert a list of string into list of integers by using map function\n",
    "l1 = ['1','2','3','4']\n",
    "print(\"List of strings : \",l1)\n",
    "\n",
    "print(\"List of strings : \",list(map(int, l1)))"
   ]
  },
  {
   "cell_type": "markdown",
   "id": "c77cf871-f87f-446b-b33e-51bc52cfad4f",
   "metadata": {},
   "source": [
    "## 2) Write a Python program that uses the `map()` function to square each element of a list of numbers.\n"
   ]
  },
  {
   "cell_type": "markdown",
   "id": "4ff66698-6e60-44ae-820e-8be47e84b09a",
   "metadata": {},
   "source": [
    "### Ans 2)\n",
    "\n",
    "#### Steps:\n",
    "- Create a list of numbers.\n",
    "- Pass list to map function and write a lambda function to square the numbers.\n",
    "- Print the updates list"
   ]
  },
  {
   "cell_type": "code",
   "execution_count": 11,
   "id": "a629d37e-f93a-4d52-b27c-60bba632b4bd",
   "metadata": {},
   "outputs": [
    {
     "name": "stdout",
     "output_type": "stream",
     "text": [
      "Given list : [1, 2, 3, 4, 5, 6]\n",
      "Given list : [1, 4, 9, 16, 25, 36]\n"
     ]
    }
   ],
   "source": [
    "lis2 = [1,2,3,4,5,6]\n",
    "print(\"Given list :\",lis2)\n",
    "\n",
    "\n",
    "print(\"Given list :\",list(map(lambda x:x*x , lis2)))"
   ]
  },
  {
   "cell_type": "markdown",
   "id": "eaad5cf8-7e33-47c2-9867-e02860e252a9",
   "metadata": {},
   "source": [
    "## 3) How does the `map()` function differ from a list comprehension in Python, and when would you choose one over the other?\n"
   ]
  },
  {
   "cell_type": "markdown",
   "id": "034612aa-3507-4f0b-b61c-2e00d08962a6",
   "metadata": {},
   "source": [
    "### Ans 3) \n",
    "\n",
    "- map() function is a function that is used when we want to perfrom any operation/function of each element of iterable.\n",
    "- list comprehension is a way of creating a list of elements from existing iterable.\n",
    "- map() function takes two parameters : a function and an iterable.\n",
    "- list comprehension follows a syntax : [output   collection   condition]\n",
    "\n",
    "- When i want to create a list of elements from existing iterables i would choose list comprehension while when i want to apply a function on each element of iterable then i would choose map() function."
   ]
  },
  {
   "cell_type": "markdown",
   "id": "0a5ed8a2-f8b4-45ee-8301-a9bed2a9e609",
   "metadata": {},
   "source": [
    "## 4) Create a Python program that uses the `map()` function to convert a list of names to uppercase"
   ]
  },
  {
   "cell_type": "markdown",
   "id": "f3cdae4c-f376-42f1-b263-aac33bf4d052",
   "metadata": {},
   "source": [
    "### Ans 4)\n",
    "\n",
    "#### Steps:\n",
    "- Create a list of names/strings.\n",
    "- Pass list to map function and write a lambda function to convert name into uppercase.\n",
    "- Print the updates list"
   ]
  },
  {
   "cell_type": "code",
   "execution_count": 14,
   "id": "5e753f3f-a4d7-4b14-a87f-9acd15e618da",
   "metadata": {},
   "outputs": [
    {
     "name": "stdout",
     "output_type": "stream",
     "text": [
      "Given list of names: ['noorain', 'saif', 'arkan', 'zain']\n",
      "Converted list of names: ['NOORAIN', 'SAIF', 'ARKAN', 'ZAIN']\n"
     ]
    }
   ],
   "source": [
    "list4 = ['noorain','saif','arkan','zain']\n",
    "print(\"Given list of names:\",list4)\n",
    "\n",
    "\n",
    "print(\"Converted list of names:\", list(map(lambda name:name.upper() ,list4)))"
   ]
  },
  {
   "cell_type": "markdown",
   "id": "59a8fc45-f1c6-4231-b87e-1151ce30795a",
   "metadata": {},
   "source": [
    "## 5) Write a Python program that uses the `map()` function to calculate the length of each word in a list of strings."
   ]
  },
  {
   "cell_type": "markdown",
   "id": "9973d6fd-f4d0-474b-8ec0-4ffced01bdb7",
   "metadata": {},
   "source": [
    "### Ans 5)\n",
    "\n",
    "#### Steps:\n",
    "- Create a list of names/strings.\n",
    "- Pass list to map function and pass len() function to find the length of each string of list.\n",
    "- Print the updates list"
   ]
  },
  {
   "cell_type": "code",
   "execution_count": 15,
   "id": "930859c9-2e52-47e0-a37b-4a57a068acee",
   "metadata": {},
   "outputs": [
    {
     "name": "stdout",
     "output_type": "stream",
     "text": [
      "Given list of names: ['noorain', 'saif', 'arkan', 'zain']\n",
      "List of length of names: [7, 4, 5, 4]\n"
     ]
    }
   ],
   "source": [
    "list5 = ['noorain','saif','arkan','zain']\n",
    "print(\"Given list of names:\",list5)\n",
    "\n",
    "\n",
    "print(\"List of length of names:\", list(map(len ,list4)))"
   ]
  },
  {
   "cell_type": "markdown",
   "id": "d3f1f2e4-3af0-4ef7-8681-29ce3c09982b",
   "metadata": {},
   "source": [
    "## 6) How can you use the `map()` function to apply a custom function to elements of multiple lists simultaneously in Python?\n"
   ]
  },
  {
   "cell_type": "markdown",
   "id": "908e75b1-ce79-4ff8-9370-26028774890a",
   "metadata": {},
   "source": [
    "### Ans 6)\n",
    "\n",
    "- In map() function we can pass any number of iterables.But we have to make sure that the function that we want to apply on each iterable should has one parameter for each iterable.\n",
    "- For ex- there are two list of numbers and i want to multiply 1st element with second list's 1st element and so on.\n",
    "- For that i can write a lambda function but make sure that the function takes two parameters one for list1 and second for list2 to multiply both the elements."
   ]
  },
  {
   "cell_type": "code",
   "execution_count": 13,
   "id": "c082e3c2-4aa4-4b02-a738-49eb06afa5f1",
   "metadata": {},
   "outputs": [
    {
     "data": {
      "text/plain": [
       "[7, 16, 27, 40, 55]"
      ]
     },
     "execution_count": 13,
     "metadata": {},
     "output_type": "execute_result"
    }
   ],
   "source": [
    "## custom function\n",
    "l6_1 = [1,2,3,4,5]\n",
    "l6_2 = [7,8,9,10,11]\n",
    "list(map(lambda x,y:x*y ,l6_1,l6_2))"
   ]
  },
  {
   "cell_type": "markdown",
   "id": "387ac4df-65ce-4468-bf3b-8efe1ac69d4b",
   "metadata": {},
   "source": [
    "## 7) Create a Python program that uses `map()` to convert a list of temperatures from Celsius to Fahrenheit."
   ]
  },
  {
   "cell_type": "markdown",
   "id": "1619f095-d5e2-4605-a962-e33545d6c9af",
   "metadata": {},
   "source": [
    "### Ans 7)\n",
    "\n",
    "- Formula : F=(9/5)C+32\n",
    "\n",
    "#### Steps:\n",
    "- Create a list of temperatures in Celsius.\n",
    "- Pass list to map function and write a lambda function to convert each Celsius temp into Fahrenheit.\n",
    "- Print the updates list."
   ]
  },
  {
   "cell_type": "code",
   "execution_count": 19,
   "id": "63f3c6f6-b796-4392-b8bc-ac125ae2fe8c",
   "metadata": {},
   "outputs": [
    {
     "name": "stdout",
     "output_type": "stream",
     "text": [
      "Given list of tempertures in Celsius: [0, 1, 2, 3, 4, 5, 6, 7, 8]\n",
      "List of tempertures in Fahrenheit: [32.0, 33.8, 35.6, 37.4, 39.2, 41.0, 42.8, 44.6, 46.4]\n"
     ]
    }
   ],
   "source": [
    "list7 = [0,1,2,3,4,5,6,7,8]\n",
    "print(\"Given list of tempertures in Celsius:\",list7)\n",
    "\n",
    "\n",
    "print(\"List of tempertures in Fahrenheit:\",list(map(lambda c:(9/5)*c + 32 , list7)))"
   ]
  },
  {
   "cell_type": "markdown",
   "id": "4cfa18af-3c84-4ee2-933a-ca756c8e19e6",
   "metadata": {},
   "source": [
    "## 8) Write a Python program that uses the `map()` function to round each element of a list of floating-point numbers to the nearest integer."
   ]
  },
  {
   "cell_type": "markdown",
   "id": "59349473-0d16-4da0-bb59-1459bd3e3548",
   "metadata": {},
   "source": [
    "### Ans 8)\n",
    "\n",
    "#### Steps:\n",
    "- Create a list of floating point numbers.\n",
    "- Pass list to map function and pass round() function to convert into neatest integer.\n",
    "- Print the updates list"
   ]
  },
  {
   "cell_type": "code",
   "execution_count": 17,
   "id": "1a4f88b4-e790-429d-8811-b226b61f6ff5",
   "metadata": {},
   "outputs": [
    {
     "name": "stdout",
     "output_type": "stream",
     "text": [
      "Given list: [1.2, 2.5, 6.6, 10.1]\n",
      "List after rounding each element to the nearest integer: [1, 2, 7, 10]\n"
     ]
    }
   ],
   "source": [
    "list8 = [1.2, 2.5, 6.6, 10.1]\n",
    "print(\"Given list:\",list8)\n",
    "\n",
    "print(\"List after rounding each element to the nearest integer:\",list(map(round, list8)))"
   ]
  },
  {
   "cell_type": "markdown",
   "id": "e6f4fe8d-9b96-4900-8f81-45b2b51d6cb1",
   "metadata": {},
   "source": [
    "# Topic : Reduce"
   ]
  },
  {
   "cell_type": "markdown",
   "id": "760e0b27-232e-476a-941f-c671a6033fda",
   "metadata": {},
   "source": [
    "## 1)  What is the `reduce()` function in Python, and what module should you import to use it? Provide an example of its basic usage."
   ]
  },
  {
   "cell_type": "markdown",
   "id": "624fe430-6213-4166-b55f-f987c74e3568",
   "metadata": {},
   "source": [
    "### Ans 1)\n",
    "\n",
    "- reduce() is a built-in function in python that is used to apply any function on each element of iterable, by reducing them to a single value.\n",
    "- reduce() function can be import from functools library.\n",
    "- for ex - i want to find the summation of all elements of a list."
   ]
  },
  {
   "cell_type": "code",
   "execution_count": 15,
   "id": "f2ae752e-3a8e-4358-bd47-9c3295539069",
   "metadata": {},
   "outputs": [
    {
     "data": {
      "text/plain": [
       "10"
      ]
     },
     "execution_count": 15,
     "metadata": {},
     "output_type": "execute_result"
    }
   ],
   "source": [
    "from functools import reduce\n",
    "\n",
    "list1 = [1,2,3,4]\n",
    "reduce(lambda x,y:x+y , list1)"
   ]
  },
  {
   "cell_type": "markdown",
   "id": "9483ee96-fa1d-4988-b7f3-0476390a9443",
   "metadata": {},
   "source": [
    "## 2) Write a Python program that uses the `reduce()` function to find the product of all elements in a list.\n"
   ]
  },
  {
   "cell_type": "markdown",
   "id": "0f07b4cc-a5b9-4b9b-8aa1-85ae86d2c038",
   "metadata": {},
   "source": [
    "### Ans 2)\n",
    "\n",
    "#### Steps:\n",
    "- Create a list of numbers.\n",
    "- import reduce function from functools library.\n",
    "- Pass list to reduce function and a lambda function to multiply all elements.\n",
    "- Display the product."
   ]
  },
  {
   "cell_type": "code",
   "execution_count": 24,
   "id": "b9a16b63-076a-437a-82c0-4075b962f4e9",
   "metadata": {},
   "outputs": [
    {
     "name": "stdout",
     "output_type": "stream",
     "text": [
      "Given list of numbers: [1, 2, 3, 4, 5]\n",
      "Product of all elements: 120\n"
     ]
    }
   ],
   "source": [
    "from functools import reduce\n",
    "\n",
    "list2 = [1,2,3,4,5]\n",
    "print(\"Given list of numbers:\",list2)\n",
    "\n",
    "print(\"Product of all elements:\",reduce(lambda x,y:x*y , list2))"
   ]
  },
  {
   "cell_type": "markdown",
   "id": "427bb1de-a73c-4205-b8da-340f8b25f840",
   "metadata": {},
   "source": [
    "## 3) Create a Python program that uses `reduce()` to find the maximum element in a list of numbers"
   ]
  },
  {
   "cell_type": "markdown",
   "id": "f4c9704e-5d5f-4438-904f-6f2d31b5a2f8",
   "metadata": {},
   "source": [
    "### Ans 3)\n",
    "\n",
    "#### Steps:\n",
    "- Create a list of numbers.\n",
    "- import reduce function from functools library.\n",
    "- Pass list to reduce function and a lambda function to find the max of all elements.\n",
    "- Display the maximum number."
   ]
  },
  {
   "cell_type": "code",
   "execution_count": 28,
   "id": "bd354a9d-d30c-4eb0-a8e8-bb4d4ffeeb6f",
   "metadata": {},
   "outputs": [
    {
     "name": "stdout",
     "output_type": "stream",
     "text": [
      "Given list of numbers: [1, 2, 3, 4, 5]\n",
      "Maximum element in list: 5\n"
     ]
    }
   ],
   "source": [
    "from functools import reduce\n",
    "\n",
    "list2 = [1,2,3,4,5]\n",
    "print(\"Given list of numbers:\",list2)\n",
    "\n",
    "print(\"Maximum element in list:\",reduce(lambda x,y : max(x,y) , list2))"
   ]
  },
  {
   "cell_type": "markdown",
   "id": "6387b90f-41df-4c7f-ba6e-46601cf3aac4",
   "metadata": {},
   "source": [
    "## 4) How can you use the `reduce()` function to concatenate a list of strings into a single string?"
   ]
  },
  {
   "cell_type": "markdown",
   "id": "d454e5a4-12f2-4757-8331-e9850b5bb34a",
   "metadata": {},
   "source": [
    "### Ans 4)\n",
    "\n",
    "- Take a list of strings.\n",
    "- Import reduce() function from functools\n",
    "- write a lambda function to concatenate two strings and pass it to reduce function along with list."
   ]
  },
  {
   "cell_type": "code",
   "execution_count": 18,
   "id": "9d8386c2-eba4-4ce6-ab2b-9237ff587eae",
   "metadata": {},
   "outputs": [
    {
     "data": {
      "text/plain": [
       "'data science is very popular'"
      ]
     },
     "execution_count": 18,
     "metadata": {},
     "output_type": "execute_result"
    }
   ],
   "source": [
    "list4 = ['data','science','is','very','popular']\n",
    "\n",
    "from functools import reduce\n",
    "\n",
    "reduce(lambda x,y : x+' '+y , list4)"
   ]
  },
  {
   "cell_type": "markdown",
   "id": "931d0a48-b1fa-4255-8ad2-193d3d6e906d",
   "metadata": {},
   "source": [
    "## 5) Write a Python program that calculates the factorial of a number using the `reduce()` function.\n"
   ]
  },
  {
   "cell_type": "markdown",
   "id": "17761832-32d1-4ad2-abdd-5da414d041bc",
   "metadata": {},
   "source": [
    "### Ans 5)\n",
    "\n",
    "#### Steps:\n",
    "- Take a number from user.\n",
    "- import reduce function from functools library.\n",
    "- Generate a list of numbers from (1 to given number) and Pass it to reduce function and write a lambda function to find the factorial by multiplying numbers.\n",
    "- Display the factorial."
   ]
  },
  {
   "cell_type": "code",
   "execution_count": 32,
   "id": "a4e01dee-397b-4ea5-81ef-e423209db74f",
   "metadata": {},
   "outputs": [
    {
     "name": "stdin",
     "output_type": "stream",
     "text": [
      "Enter a number to find the factorial :  6\n"
     ]
    },
    {
     "name": "stdout",
     "output_type": "stream",
     "text": [
      "Factorial of given number :  720\n"
     ]
    }
   ],
   "source": [
    "from functools import reduce\n",
    "num = int(input(\"Enter a number to find the factorial : \")) \n",
    "\n",
    "fact = reduce(lambda x,y:x*y ,[i for i in range(1,num+1)])\n",
    "print(\"Factorial of given number : \",fact)"
   ]
  },
  {
   "cell_type": "markdown",
   "id": "8f916b79-0fb7-4a63-aac6-678d9ef1930c",
   "metadata": {},
   "source": [
    "## 6) Create a Python program that uses `reduce()` to find the GCD (Greatest Common Divisor) of a list of numbers.\n"
   ]
  },
  {
   "cell_type": "markdown",
   "id": "e271e608-bc88-4a10-af66-a578fd91d0a0",
   "metadata": {},
   "source": [
    "### Ans 6)\n",
    "\n",
    "#### Steps:\n",
    "- Create a list of numbers to find their GCD.\n",
    "- import reduce function from functools library.\n",
    "- Write a lambda function to find the GCD of two numbers seperately.\n",
    "- Pass that function and list of numbers to reduce() function.\n",
    "- Display the gcd of numbers of list."
   ]
  },
  {
   "cell_type": "code",
   "execution_count": 48,
   "id": "a48e5c46-2a89-459e-a002-e7412cc5c63b",
   "metadata": {},
   "outputs": [
    {
     "name": "stdout",
     "output_type": "stream",
     "text": [
      "Given list [2, 10, 20]\n",
      "Gcd of number :  2\n"
     ]
    }
   ],
   "source": [
    "from functools import reduce\n",
    "\n",
    "gcd = lambda divisor,dividend : divisor if dividend%divisor==0 else gcd(dividend%divisor , divisor)\n",
    "\n",
    "list6 = [2,10,20]\n",
    "print(\"Given list\",list6)\n",
    "\n",
    "ans = reduce(gcd,list6)\n",
    "print(\"Gcd of number : \",ans)"
   ]
  },
  {
   "cell_type": "markdown",
   "id": "3c1a381d-4a02-4cf8-a21b-bce5959245b7",
   "metadata": {},
   "source": [
    "## 7) Write a Python program that uses the `reduce()` function to find the sum of the digits of a given number.\n"
   ]
  },
  {
   "cell_type": "markdown",
   "id": "d10f588e-f410-426d-985c-2cebc75a7a40",
   "metadata": {},
   "source": [
    "### Ans 7)\n",
    "\n",
    "#### Steps:\n",
    "- Take a number from user.\n",
    "- import reduce function from functools library.\n",
    "- Convert integer number into string, then convert into list of string then convert into list of integers using map function.\n",
    "- pass the output of map function to reduce function and write a lambda function to find the sum of digits.\n",
    "- Display the sum."
   ]
  },
  {
   "cell_type": "code",
   "execution_count": 40,
   "id": "cc8e6361-3462-444e-962f-76137ee13564",
   "metadata": {},
   "outputs": [
    {
     "name": "stdin",
     "output_type": "stream",
     "text": [
      "Enter a number to find the sum of its digits :  1234\n"
     ]
    },
    {
     "name": "stdout",
     "output_type": "stream",
     "text": [
      "Sum of digits 10\n"
     ]
    }
   ],
   "source": [
    "from functools import reduce\n",
    "\n",
    "num = int(input(\"Enter a number to find the sum of its digits : \"))\n",
    "\n",
    "summation = reduce(lambda x,y : x+y , map(int,list(str(num))) )\n",
    "\n",
    "print(\"Sum of digits\",summation)"
   ]
  },
  {
   "cell_type": "markdown",
   "id": "7b9018b0-87f6-4134-812c-3f636eb02642",
   "metadata": {},
   "source": [
    "# Topic : Filter"
   ]
  },
  {
   "cell_type": "markdown",
   "id": "3b3956ec-0f6b-41ab-8a75-e7cc3e934693",
   "metadata": {},
   "source": [
    "## 1) Explain the purpose of the `filter()` function in Python and provide an example of how it can be used to filter elements from an iterable.\n"
   ]
  },
  {
   "cell_type": "markdown",
   "id": "b483bd0f-638e-4fb9-b112-350ec43c888c",
   "metadata": {},
   "source": [
    "### Ans 1) \n",
    "\n",
    "- filter() is a built-in function in python which is used to filter out elements from given iterable based on given condition/expression.\n",
    "- For ex - i have a list of numbers i want to find all even element from that list, i can use filter function in following way : "
   ]
  },
  {
   "cell_type": "code",
   "execution_count": 22,
   "id": "0d01627e-c619-4d9d-ac7a-136c3a7583f6",
   "metadata": {},
   "outputs": [
    {
     "data": {
      "text/plain": [
       "[2, 4]"
      ]
     },
     "execution_count": 22,
     "metadata": {},
     "output_type": "execute_result"
    }
   ],
   "source": [
    "lis1 = [1,2,3,4,5]\n",
    "\n",
    "list(filter(lambda x : x%2==0  , lis1))"
   ]
  },
  {
   "cell_type": "markdown",
   "id": "868ecc29-238e-41c6-a2b5-d619d2568b8a",
   "metadata": {},
   "source": [
    "## 2) Write a Python program that uses the `filter()` function to select even numbers from a list of integers."
   ]
  },
  {
   "cell_type": "markdown",
   "id": "d2679c32-255b-4e95-8d17-4c747ea6ace7",
   "metadata": {},
   "source": [
    "### Ans 2)\n",
    "\n",
    "#### Steps:\n",
    "- Create a list of numbers.\n",
    "- Pass the list to filter function and write a lambda function to check number is even or not.\n",
    "- Display the list of even numbers."
   ]
  },
  {
   "cell_type": "code",
   "execution_count": 52,
   "id": "d422c70a-8b5b-42a0-8224-ea614a33a03e",
   "metadata": {},
   "outputs": [
    {
     "name": "stdout",
     "output_type": "stream",
     "text": [
      "Give list of numbers: [1, 2, 3, 4, 5, 6, 7, 8, 9]\n",
      "List of all even numbers: [2, 4, 6, 8]\n"
     ]
    }
   ],
   "source": [
    "list2 = [1,2,3,4,5,6,7,8,9]\n",
    "print(\"Give list of numbers:\",list2)\n",
    "\n",
    "print(\"List of all even numbers:\",list(filter(lambda x: x%2==0 ,list2)))"
   ]
  },
  {
   "cell_type": "markdown",
   "id": "a6565652-12da-4e6b-8efa-c9dab0df80b3",
   "metadata": {},
   "source": [
    "## 3) Create a Python program that uses the `filter()` function to select names that start with a specific letter from a list of strings."
   ]
  },
  {
   "cell_type": "markdown",
   "id": "be60db66-ced4-4b7c-9314-b8cc585c43b1",
   "metadata": {},
   "source": [
    "### Ans 3)\n",
    "\n",
    "#### Steps:\n",
    "- Create a list of numbers.\n",
    "- Pass the list to filter function and write a lambda function to check number is even or not.\n",
    "- Display the list of even numbers."
   ]
  },
  {
   "cell_type": "code",
   "execution_count": 54,
   "id": "75bb6b74-4de9-4406-b9f2-a877d108836b",
   "metadata": {},
   "outputs": [
    {
     "name": "stdout",
     "output_type": "stream",
     "text": [
      "Give list of strings: ['apple', 'banana', 'papaya', 'pineapple']\n",
      "List of strings starts with p : ['papaya', 'pineapple']\n"
     ]
    }
   ],
   "source": [
    "list3 = ['apple','banana','papaya','pineapple']\n",
    "print(\"Give list of strings:\",list3)\n",
    "\n",
    "print(\"List of strings starts with p :\",list(filter(lambda x: x.startswith('p') , list3)))"
   ]
  },
  {
   "cell_type": "markdown",
   "id": "4e3e21c8-3e99-4f06-ae31-ef6e20578bbc",
   "metadata": {},
   "source": [
    "## 4) Write a Python program that uses the `filter()` function to select prime numbers from a list of integers.\n"
   ]
  },
  {
   "cell_type": "markdown",
   "id": "f36acf2a-f291-4162-aaa1-b19823cdcbf4",
   "metadata": {},
   "source": [
    "### Ans 4)\n",
    "\n",
    "#### Steps:\n",
    "- Create a list of numbers.\n",
    "- Pass the list to filter function and write a lambda function that does following things:\n",
    "- 1) First check, number is greater than 1 and check whether number is divisible by any its previous number or not. if not then number is prime else number is not prime.\n",
    "- Display the list of prime numbers."
   ]
  },
  {
   "cell_type": "code",
   "execution_count": 9,
   "id": "fb63c7cf-0171-4588-b7af-0c9f4cf72664",
   "metadata": {},
   "outputs": [
    {
     "name": "stdout",
     "output_type": "stream",
     "text": [
      "List of number: [1, 2, 3, 4, 5, 6, 7, 8, 9, 10, 11]\n",
      "List of prime number: [2, 3, 5, 7, 11]\n"
     ]
    }
   ],
   "source": [
    "list4 = [1,2,3,4,5,6,7,8,9,10,11]\n",
    "print(\"List of number:\",list4)\n",
    "\n",
    "primenum_list = list(filter(lambda num : num>1 and all(num%i!=0 for i in range(2,num)) , list4))\n",
    "print(\"List of prime number:\", primenum_list)"
   ]
  },
  {
   "cell_type": "markdown",
   "id": "54636045-d684-422b-8407-24a48cdcd270",
   "metadata": {},
   "source": [
    "## 5) How can you use the `filter()` function to remove None values from a list in Python?\n"
   ]
  },
  {
   "cell_type": "markdown",
   "id": "35577217-8456-48f8-8026-aa8541dc25d6",
   "metadata": {},
   "source": [
    "### Ans 5)\n",
    "\n",
    "- filter() function returns the items for which the condition/function is true.\n",
    "- If function is None in that case it return the items which are true.\n",
    "- To filter/remove None values from a list we can pass None function to filter() function, it ignore the None values and return only those values which are not none."
   ]
  },
  {
   "cell_type": "code",
   "execution_count": 26,
   "id": "f9dc4dbd-777e-4da2-9b4e-f60721fedea9",
   "metadata": {},
   "outputs": [
    {
     "data": {
      "text/plain": [
       "[1, 2, 3, '1', 'none']"
      ]
     },
     "execution_count": 26,
     "metadata": {},
     "output_type": "execute_result"
    }
   ],
   "source": [
    "lis5 = [1,None,2,3,None,'1','none']\n",
    "\n",
    "list(filter(None,lis5))"
   ]
  },
  {
   "cell_type": "markdown",
   "id": "96c5fbd9-2077-4eb9-9fe4-ad4cac8cc21d",
   "metadata": {},
   "source": [
    "## 6) Create a Python program that uses `filter()` to select words longer than a certain length from a list of strings."
   ]
  },
  {
   "cell_type": "markdown",
   "id": "b12c846a-3354-4861-b472-da963a4d553e",
   "metadata": {},
   "source": [
    "### Ans 6)\n",
    "\n",
    "#### Steps:\n",
    "- Create a list of strings.\n",
    "- Pass the list to filter function and write a lambda function to check string's length is more than 5 or not.\n",
    "- Display the list of strings of length more than 5."
   ]
  },
  {
   "cell_type": "code",
   "execution_count": 55,
   "id": "d704cdf3-17e7-4bc2-80b5-9dcb2867b075",
   "metadata": {},
   "outputs": [
    {
     "name": "stdout",
     "output_type": "stream",
     "text": [
      "Give list of strings: ['apple', 'banana', 'papaya', 'pineapple']\n",
      "List of strings longer than 5 characters : ['banana', 'papaya', 'pineapple']\n"
     ]
    }
   ],
   "source": [
    "list6 = ['apple','banana','papaya','pineapple']\n",
    "print(\"Give list of strings:\",list3)\n",
    "\n",
    "print(\"List of strings longer than 5 characters :\",list(filter(lambda x: len(x)>5 , list6)))"
   ]
  },
  {
   "cell_type": "markdown",
   "id": "e371ea88-da6b-4d0a-9cf9-7f95138cd689",
   "metadata": {},
   "source": [
    "## 7) Write a Python program that uses the `filter()` function to select elements greater than a specified threshold from a list of values.\n"
   ]
  },
  {
   "cell_type": "markdown",
   "id": "d44333ab-8828-4a24-94d4-05edcea1da3d",
   "metadata": {},
   "source": [
    "### Ans 7)\n",
    "\n",
    "#### Steps:\n",
    "- Create a list of numbers.\n",
    "- Pass the list to filter function and write a lambda function to check number is greater than 5 or not.\n",
    "- Display the list of all numbers which are greater than 5."
   ]
  },
  {
   "cell_type": "code",
   "execution_count": 2,
   "id": "adf9e4dd-6411-42a2-aac1-6bc9b49417bc",
   "metadata": {},
   "outputs": [
    {
     "name": "stdout",
     "output_type": "stream",
     "text": [
      "Given list of elements : [1, 2, 3, 4, 5, 6, 7, 8, 9, 10]\n",
      "List of numbers greater than 5 : [6, 7, 8, 9, 10]\n"
     ]
    }
   ],
   "source": [
    "list7 = [1,2,3,4,5,6,7,8,9,10]\n",
    "print(\"Given list of elements :\",list7)\n",
    "\n",
    "print(\"List of numbers greater than 5 :\",list(filter(lambda x: x>5 , list7)))"
   ]
  },
  {
   "cell_type": "markdown",
   "id": "f2f00ba9-80a9-4dc5-a84c-f68a50f4c850",
   "metadata": {},
   "source": [
    "# Topic : Recursion"
   ]
  },
  {
   "cell_type": "markdown",
   "id": "32792627-8e1f-40e1-b239-0f0e68e4f19d",
   "metadata": {},
   "source": [
    "## 1) Explain the concept of recursion in Python. How does it differ from iteration?"
   ]
  },
  {
   "cell_type": "markdown",
   "id": "8b85026a-d0bc-47df-866f-2e0d4eabfd13",
   "metadata": {},
   "source": [
    "### Ans 1)\n",
    "- Recursion is a function that calls itself.\n",
    "- while iteration means traversing through iterable. It is not a function and it doesn't call itself."
   ]
  },
  {
   "cell_type": "markdown",
   "id": "37faf407-f08c-40e8-b4fe-e9bca89e774a",
   "metadata": {},
   "source": [
    "##  2) Write a Python program to calculate the factorial of a number using recursion.\n"
   ]
  },
  {
   "cell_type": "markdown",
   "id": "9e1e21d6-4389-4cd1-b8ed-d5600c6865bf",
   "metadata": {},
   "source": [
    "### Ans 2)\n",
    "\n",
    "- n! = n*(n-1)!\n",
    "\n",
    "#### Steps:\n",
    "- Take a number from a user.\n",
    "- Write the base case i.e if number is 1 or 0 return 1.\n",
    "- Else use the above formula and find the factorial to its lesser number again and agian.\n",
    "- Display the factorial."
   ]
  },
  {
   "cell_type": "code",
   "execution_count": 11,
   "id": "bd996730-49a2-4eea-8614-e54807d2c063",
   "metadata": {},
   "outputs": [
    {
     "name": "stdin",
     "output_type": "stream",
     "text": [
      "Enter a number to find its factorial :  6\n"
     ]
    },
    {
     "data": {
      "text/plain": [
       "720"
      ]
     },
     "execution_count": 11,
     "metadata": {},
     "output_type": "execute_result"
    }
   ],
   "source": [
    "def fact(n):\n",
    "    if n<=1:\n",
    "        return 1\n",
    "    else:\n",
    "        return n*fact(n-1)\n",
    "\n",
    "num2 = int(input(\"Enter a number to find its factorial : \"))\n",
    "fact(num2)"
   ]
  },
  {
   "cell_type": "markdown",
   "id": "196546a3-19f0-4d0f-8c83-42b0ec1492d1",
   "metadata": {},
   "source": [
    "## 3) Create a recursive Python function to find the nth Fibonacci number.\n"
   ]
  },
  {
   "cell_type": "markdown",
   "id": "b379b98e-a613-447d-aa69-cbccb58e5341",
   "metadata": {},
   "source": [
    "### Ans 3)\n",
    "\n",
    "- Fibonacci number : F(n) = F(n-1)+F(n-2)\n",
    "\n",
    "#### Steps:\n",
    "- Take a number from a user.\n",
    "- Write the base case i.e if number is 1 or 0 return number.\n",
    "- Else use the above formula and find the nth fibonacci number.\n",
    "- Display the nth fibonacci number."
   ]
  },
  {
   "cell_type": "code",
   "execution_count": 12,
   "id": "970f498f-fd87-4909-a69e-a3584d803a43",
   "metadata": {},
   "outputs": [
    {
     "name": "stdin",
     "output_type": "stream",
     "text": [
      "Enter a number to find nth fibonacci number :  6\n"
     ]
    },
    {
     "data": {
      "text/plain": [
       "8"
      ]
     },
     "execution_count": 12,
     "metadata": {},
     "output_type": "execute_result"
    }
   ],
   "source": [
    "def fibonumber(n):\n",
    "    if n <=1 :\n",
    "        return n\n",
    "    else:\n",
    "        return fibonumber(n-1)+fibonumber(n-2)\n",
    "    \n",
    "num3 = int(input(\"Enter a number to find nth fibonacci number : \"))\n",
    "fibonumber(num3)"
   ]
  },
  {
   "cell_type": "markdown",
   "id": "151098a0-118e-44d0-87a2-3b0efa1dace4",
   "metadata": {},
   "source": [
    "## 4) Write a recursive Python function to calculate the sum of all elements in a list."
   ]
  },
  {
   "cell_type": "markdown",
   "id": "c5267844-18af-4d9e-82c4-6d2d24c23db9",
   "metadata": {},
   "source": [
    "### Ans 4)\n",
    "\n",
    "#### Steps:\n",
    "- Write a function that takes a list of numbers.\n",
    "- Write the base case i.e if length of the list is 0 return 0.\n",
    "- other cases : start adding numbers of list from last and pass the list from start to second last elements by slicing to the recursion function."
   ]
  },
  {
   "cell_type": "code",
   "execution_count": 14,
   "id": "6c647014-6b69-47fb-bfb1-8abb27da2ed2",
   "metadata": {},
   "outputs": [
    {
     "name": "stdout",
     "output_type": "stream",
     "text": [
      "Given list of elments :  [1, 2, 3, 4]\n",
      "Sum of all elments of given list :  10\n"
     ]
    }
   ],
   "source": [
    "def sum_ele(lis):\n",
    "    if len(lis) == 0:\n",
    "        return 0\n",
    "    else:\n",
    "        return lis[-1] + sum_ele(lis[:-1])\n",
    "    \n",
    "l = [1,2,3,4]\n",
    "print(\"Given list of elments : \",l)\n",
    "\n",
    "print(\"Sum of all elments of given list : \", sum_ele(l))"
   ]
  },
  {
   "cell_type": "markdown",
   "id": "4f5326a3-90a0-4fb1-863a-6143baf1f06a",
   "metadata": {},
   "source": [
    "## 5) How can you prevent a recursive function from running indefinitely, causing a stack overflow error?\n"
   ]
  },
  {
   "cell_type": "markdown",
   "id": "0c6eed3b-99aa-4071-8952-4130d7e633d5",
   "metadata": {},
   "source": [
    "### Ans 5) \n",
    "- Stack overflow error occurs when a recursion function runs infinite times.\n",
    "- It occurs when a programmer forget to write the base case.\n",
    "- So i can prevent a recursive function from running indefinitely by defining a base case in recursion function."
   ]
  },
  {
   "cell_type": "markdown",
   "id": "6c5be6df-1912-4fae-a3fd-cf905108cda7",
   "metadata": {},
   "source": [
    "## 6) Create a recursive Python function to find the greatest common divisor (GCD) of two numbers using the Euclidean algorithm."
   ]
  },
  {
   "cell_type": "markdown",
   "id": "88a351ed-dbb9-45f4-a6a0-fda30bc687fb",
   "metadata": {},
   "source": [
    "### Ans 6)\n",
    "\n",
    "1) The GCD of two integers a and b is the largest number that divides both of a and b (without leaving a remainder or remainder is zero).\n",
    "\n",
    "#### Steps:\n",
    "- Take two numbers from user.\n",
    "- Replace larger number with (larger - smaller).\n",
    "- Start dividing larger number by smaller number untill remainder become zero."
   ]
  },
  {
   "cell_type": "code",
   "execution_count": 13,
   "id": "c341bdc2-1e9c-4c97-9549-90e0e6090abe",
   "metadata": {},
   "outputs": [
    {
     "name": "stdout",
     "output_type": "stream",
     "text": [
      "Enter two numbers to find their GCD : \n"
     ]
    },
    {
     "name": "stdin",
     "output_type": "stream",
     "text": [
      "Enter first numer :  5\n",
      "Enter second numer :  10\n"
     ]
    },
    {
     "data": {
      "text/plain": [
       "5"
      ]
     },
     "execution_count": 13,
     "metadata": {},
     "output_type": "execute_result"
    }
   ],
   "source": [
    "def gcd(divisor, dividend):\n",
    "    if dividend%divisor == 0:\n",
    "        return divisor\n",
    "    else:\n",
    "        remiander = dividend%divisor\n",
    "        dividend  = divisor\n",
    "        divisor = remainder\n",
    "        return gcd(divisor,dividend)\n",
    "    \n",
    "print(\"Enter two numbers to find their GCD : \")\n",
    "num6_1 = int(input(\"Enter first numer : \"))\n",
    "num6_2 = int(input(\"Enter second numer : \"))\n",
    "\n",
    "## according to euclidean algorithm\n",
    "dividend = max(num6_1,num6_2) - min(num6_1,num6_2)\n",
    "divisor = min(num6_1,num6_2)\n",
    "\n",
    "gcd(divisor, dividend)"
   ]
  },
  {
   "cell_type": "markdown",
   "id": "813f59fc-c5b5-4ae0-be4d-c5314530256c",
   "metadata": {},
   "source": [
    "## 7) Write a recursive Python function to reverse a string.\n"
   ]
  },
  {
   "cell_type": "markdown",
   "id": "6f345569-b5ff-41f7-bd8d-2d0e11fb24d6",
   "metadata": {},
   "source": [
    "### Ans 7)\n",
    "\n",
    "#### Steps:\n",
    "- Write a function that takes a string.\n",
    "- Write the base case i.e if length of the string is 0 return ''.\n",
    "- other cases : start appending character of string from last and pass the string from start to second last character by slicing."
   ]
  },
  {
   "cell_type": "code",
   "execution_count": 6,
   "id": "5c5d6626-7b21-4069-8c4f-227eca35be03",
   "metadata": {},
   "outputs": [
    {
     "name": "stdin",
     "output_type": "stream",
     "text": [
      "Enter a string to reverse it :  noorain\n"
     ]
    },
    {
     "name": "stdout",
     "output_type": "stream",
     "text": [
      "Reversed string :  niaroon\n"
     ]
    }
   ],
   "source": [
    "def reverse(string):\n",
    "    if len(string) == 0:\n",
    "        return ''\n",
    "    else:\n",
    "        return string[-1] + reverse(string[:-1])\n",
    "\n",
    "s = input(\"Enter a string to reverse it : \")\n",
    "print(\"Reversed string : \", reverse(s))"
   ]
  },
  {
   "cell_type": "markdown",
   "id": "508283a7-917d-4f18-b87f-735b4982f0cb",
   "metadata": {},
   "source": [
    "## 8) Create a recursive Python function to calculate the power of a number (x^n).\n"
   ]
  },
  {
   "cell_type": "markdown",
   "id": "4d6eb99c-476f-442f-99a3-b7fdfb0342f7",
   "metadata": {},
   "source": [
    "### Ans 8)\n",
    "\n",
    "#### Steps:\n",
    "- Define a function that takes two parameters x and n.\n",
    "- Write the base case i.e if n = 0, return 1.\n",
    "- Other cases : start mutliplying x till n times by recursively calling the function and passing n-1 value to it."
   ]
  },
  {
   "cell_type": "code",
   "execution_count": 11,
   "id": "e0e7ab22-bff7-428f-81b6-b0a56076aa87",
   "metadata": {},
   "outputs": [
    {
     "name": "stdout",
     "output_type": "stream",
     "text": [
      "Enter the value of x and n to find the power of x^n : \n"
     ]
    },
    {
     "name": "stdin",
     "output_type": "stream",
     "text": [
      "Enter the value of x :  3\n",
      "Enter the value of n :  3\n"
     ]
    },
    {
     "name": "stdout",
     "output_type": "stream",
     "text": [
      "3 to the power of 3 : 27\n"
     ]
    }
   ],
   "source": [
    "def power(x,n):\n",
    "    if n == 0:\n",
    "        return 1\n",
    "    else :\n",
    "        return x * power(x,n-1)\n",
    "    \n",
    "    \n",
    "print(\"Enter the value of x and n to find the power of x^n : \")\n",
    "x = int(input(\"Enter the value of x : \"))\n",
    "n = int(input(\"Enter the value of n : \"))\n",
    "\n",
    "print(f\"{x} to the power of {n} : {power(x,n)}\")"
   ]
  },
  {
   "cell_type": "markdown",
   "id": "dc0dcd99-8b95-4df2-8fb2-6a65984cb955",
   "metadata": {},
   "source": [
    "## 9) Write a recursive Python function to find all permutations of a given string.\n"
   ]
  },
  {
   "cell_type": "code",
   "execution_count": 17,
   "id": "88e29283-766c-4d8a-8020-7802fb996ec2",
   "metadata": {},
   "outputs": [
    {
     "name": "stdout",
     "output_type": "stream",
     "text": [
      "Given string :  abc\n",
      "All combination of given string \n",
      "['abc', 'acb', 'bac', 'bca', 'cab', 'cba']\n"
     ]
    }
   ],
   "source": [
    "def all_combination(string):\n",
    " \n",
    "    # If lst is empty then there are no permutations\n",
    "    if len(string) == 0:\n",
    "        return []\n",
    " \n",
    "    # If there is only one element in lst then, only\n",
    "    # one permutation is possible\n",
    "    if len(string) == 1:\n",
    "        return [string]\n",
    " \n",
    "    # Find the permutations for lst if there are\n",
    "    # more than 1 characters\n",
    " \n",
    "    l = [] # empty list that will store current permutation\n",
    " \n",
    "    # Iterate the input(lst) and calculate the permutation\n",
    "    for i in range(len(string)):\n",
    "        m = string[i]\n",
    " \n",
    "       # Extract lst[i] or m from the list.  remLst is\n",
    "       # remaining list\n",
    "        remStr = string[:i] + string[i+1:]\n",
    " \n",
    "       # Generating all permutations where m is first\n",
    "       # element\n",
    "        for char in all_combination(remStr):\n",
    "            l.append(m + char)\n",
    "    return l\n",
    "\n",
    "\n",
    "input_str = 'abc'\n",
    "print(\"Given string : \",input_str)\n",
    "\n",
    "print(f\"All combination of given string \\n{all_combination(input_str)}\")"
   ]
  },
  {
   "cell_type": "markdown",
   "id": "e1df1eb5-51df-4032-b84e-5e4870c8a986",
   "metadata": {},
   "source": [
    "## 10) Write a recursive Python function to check if a string is a palindrome"
   ]
  },
  {
   "cell_type": "markdown",
   "id": "cac65ed7-f1ce-4b10-97db-72ddf0cd10dc",
   "metadata": {},
   "source": [
    "### Ans 10 )\n",
    "\n",
    "- A string is said to be palindrome if its reverse is same as its orginal.\n",
    "\n",
    "#### Steps:\n",
    "- Define a function to reverse the string.\n",
    "- Pass the string to get reversed string.\n",
    "- Compare the orginal string and reversed string.\n",
    "- If both are same then string is palindrome else not a palindrome."
   ]
  },
  {
   "cell_type": "code",
   "execution_count": 12,
   "id": "c292a43b-d1a0-4584-9f61-9e143515c1d6",
   "metadata": {},
   "outputs": [
    {
     "name": "stdin",
     "output_type": "stream",
     "text": [
      "Enter a string to check whether it is palindrome or not : level\n"
     ]
    },
    {
     "name": "stdout",
     "output_type": "stream",
     "text": [
      "Given string is a palindrome.\n"
     ]
    }
   ],
   "source": [
    "def palindrome(string):\n",
    "    if len(string) == 0:\n",
    "        return ''\n",
    "    else:\n",
    "        return string[-1] + palindrome(string[:-1])\n",
    "    \n",
    "input_str = input(\"Enter a string to check whether it is palindrome or not :\")\n",
    "\n",
    "if input_str == palindrome(input_str):\n",
    "    print(\"Given string is a palindrome.\")\n",
    "else:\n",
    "    print(\"Given string is not a palindrome.\")    "
   ]
  },
  {
   "cell_type": "markdown",
   "id": "2eafca51-ea45-4e99-a13b-76a6f19ae918",
   "metadata": {},
   "source": [
    "## 11) Create a recursive Python function to generate all possible combinations of a list of elements."
   ]
  },
  {
   "cell_type": "code",
   "execution_count": 16,
   "id": "df93b84d-e74c-4142-b7aa-b9c511c5da81",
   "metadata": {},
   "outputs": [
    {
     "name": "stdout",
     "output_type": "stream",
     "text": [
      "Given list :  [1, 2, 3]\n",
      "All combination of elements of given list \n",
      "[[1, 2, 3], [1, 3, 2], [2, 1, 3], [2, 3, 1], [3, 1, 2], [3, 2, 1]]\n"
     ]
    }
   ],
   "source": [
    "def all_combination(lst):\n",
    " \n",
    "    # If lst is empty then there are no permutations\n",
    "    if len(lst) == 0:\n",
    "        return []\n",
    " \n",
    "    # If there is only one element in lst then, only\n",
    "    # one permutation is possible\n",
    "    if len(lst) == 1:\n",
    "        return [lst]\n",
    " \n",
    "    # Find the permutations for lst if there are\n",
    "    # more than 1 characters\n",
    " \n",
    "    l = [] # empty list that will store current permutation\n",
    " \n",
    "    # Iterate the input(lst) and calculate the permutation\n",
    "    for i in range(len(lst)):\n",
    "        m = lst[i]\n",
    " \n",
    "       # Extract lst[i] or m from the list.  remLst is\n",
    "       # remaining list\n",
    "        remLst = lst[:i] + lst[i+1:]\n",
    " \n",
    "       # Generating all permutations where m is first\n",
    "       # element\n",
    "        for p in all_combination(remLst):\n",
    "            l.append([m] + p)\n",
    "    return l\n",
    "\n",
    "\n",
    "input_lis = [1,2,3]\n",
    "print(\"Given list : \",input_lis)\n",
    "\n",
    "print(f\"All combination of elements of given list \\n{all_combination(input_lis)}\")"
   ]
  },
  {
   "cell_type": "markdown",
   "id": "a49d151f-ec13-48f9-8bf5-f2b3f8e74e7c",
   "metadata": {},
   "source": [
    "# Topic : Basics of Functions"
   ]
  },
  {
   "cell_type": "markdown",
   "id": "57505688-84f6-46d2-b305-83ebbcf4f4f9",
   "metadata": {},
   "source": [
    "## 1) What is a function in Python, and why is it used?\n"
   ]
  },
  {
   "cell_type": "markdown",
   "id": "75aeee8b-9eac-4b65-b131-6c82e3bbec37",
   "metadata": {},
   "source": [
    "### Ans 1) \n",
    "- A function is a block of code that is written separately from the main program.\n",
    "- In python a function is defined by using a 'def' keyword.\n",
    "- A function is used to perform any specific task.\n",
    "- It can be used to avoid writing repetitive code.\n",
    "- It can be used to enhance the readability."
   ]
  },
  {
   "cell_type": "markdown",
   "id": "acfae236-dd09-418c-af39-c68c65f2c54c",
   "metadata": {},
   "source": [
    "## 2) How do you define a function in Python? Provide an example.\n"
   ]
  },
  {
   "cell_type": "markdown",
   "id": "7ff14998-45eb-4eb1-a086-518d48f215e3",
   "metadata": {},
   "source": [
    "### Ans 2)\n",
    "- In python a function is defined by a 'def ' keyword.\n",
    "- for ex- a function that performs addtion of two numbers."
   ]
  },
  {
   "cell_type": "code",
   "execution_count": 29,
   "id": "9ee4a2a0-da10-410b-afea-44507337d51f",
   "metadata": {},
   "outputs": [],
   "source": [
    "## systax \n",
    "def func_name(parameter1,para2):\n",
    "    # function body\n",
    "    # ...\n",
    "    return none"
   ]
  },
  {
   "cell_type": "code",
   "execution_count": 30,
   "id": "98536242-957a-48df-9f81-1d51c598fcf9",
   "metadata": {},
   "outputs": [],
   "source": [
    "def add(a,b):\n",
    "    return a+b"
   ]
  },
  {
   "cell_type": "markdown",
   "id": "d5abeea7-0c9a-4c32-b629-b6edc8daed7a",
   "metadata": {},
   "source": [
    "## 3) Explain the difference between a function definition and a function call.\n"
   ]
  },
  {
   "cell_type": "markdown",
   "id": "975df40c-f4f4-4070-a8ec-4f6b9ee5e61c",
   "metadata": {},
   "source": [
    "### Ans 3)\n",
    "- When a function is defined then in function header there are three things..\n",
    "- 1) keyword : 'def' , 2) function name , 3) arguments in pair of parentheses : () , 4) colon ':'\n",
    "\n",
    "- When a function is called it includes only two things : function name and arguments"
   ]
  },
  {
   "cell_type": "markdown",
   "id": "df20c3db-dca7-4e32-b0c5-ccd4bf69f956",
   "metadata": {},
   "source": [
    "## 4) Write a Python program that defines a function to calculate the sum of two numbers and then calls the function.\n"
   ]
  },
  {
   "cell_type": "markdown",
   "id": "3f7faa23-3dd3-45bf-8290-6c05a68f2074",
   "metadata": {},
   "source": [
    "### Ans 4)"
   ]
  },
  {
   "cell_type": "code",
   "execution_count": 19,
   "id": "fc68ba59-7e91-4d98-bedd-bab3014ba763",
   "metadata": {},
   "outputs": [
    {
     "name": "stdout",
     "output_type": "stream",
     "text": [
      "Sum of given two numbers:\n"
     ]
    },
    {
     "data": {
      "text/plain": [
       "5"
      ]
     },
     "execution_count": 19,
     "metadata": {},
     "output_type": "execute_result"
    }
   ],
   "source": [
    "def sum_(num1,num2):\n",
    "    return num1 + num2\n",
    "\n",
    "## call the function\n",
    "print(\"Sum of given two numbers:\")\n",
    "sum_(2,3)"
   ]
  },
  {
   "cell_type": "markdown",
   "id": "dc464240-8950-4d74-bda5-f90d71b30565",
   "metadata": {},
   "source": [
    "## 5) What is a function signature, and what information does it typically include?"
   ]
  },
  {
   "cell_type": "markdown",
   "id": "63167a99-4733-45f4-98f3-061f501909c4",
   "metadata": {},
   "source": [
    "### Ans 5)\n",
    "- In Python, a function signature provides crucial information about the types of parameters that a funmction can accept and the type of data it returns."
   ]
  },
  {
   "cell_type": "markdown",
   "id": "44016186-8585-4d01-9aa9-b113d75d0b59",
   "metadata": {},
   "source": [
    "## 6) Create a Python function that takes two arguments and returns their product"
   ]
  },
  {
   "cell_type": "markdown",
   "id": "7087db68-69e2-4152-88dc-f91e0711667b",
   "metadata": {},
   "source": [
    "### Ans 6)"
   ]
  },
  {
   "cell_type": "code",
   "execution_count": 20,
   "id": "3c2a0ea4-8504-4f57-83b3-01bfa425e5be",
   "metadata": {},
   "outputs": [
    {
     "name": "stdout",
     "output_type": "stream",
     "text": [
      "Product of given two numbers:\n"
     ]
    },
    {
     "data": {
      "text/plain": [
       "6"
      ]
     },
     "execution_count": 20,
     "metadata": {},
     "output_type": "execute_result"
    }
   ],
   "source": [
    "def product(num1,num2):\n",
    "    return num1*num2\n",
    "\n",
    "## call the function\n",
    "print(\"Product of given two numbers:\")\n",
    "product(2,3)"
   ]
  },
  {
   "cell_type": "markdown",
   "id": "9a3b3dde-ca30-47e0-bcef-0c4e4ad5814e",
   "metadata": {},
   "source": [
    "# Topic : Function Parameters and Arguments"
   ]
  },
  {
   "cell_type": "markdown",
   "id": "eac8c4c2-aa73-4176-a697-99155515da27",
   "metadata": {},
   "source": [
    "## 1) Explain the concepts of formal parameters and actual arguments in Python functions"
   ]
  },
  {
   "cell_type": "markdown",
   "id": "0ccffe6d-0d30-4e34-a2bb-a2e41f146f7d",
   "metadata": {},
   "source": [
    "### Ans 1)\n",
    "- formal parameters : When a function is defined it takes some paramters/inputs to perform the task those parameters are called as formal paramters.\n",
    "- actual parameters : when a function is called then programmer pass the varaibles to function those varaibles are called as actual parameters.\n",
    "- In below ex - a and b are formal paraterms. while num1 and num2 are actual parameters."
   ]
  },
  {
   "cell_type": "code",
   "execution_count": null,
   "id": "86e58e56-d134-4ae6-a056-dc6f1b41c712",
   "metadata": {},
   "outputs": [],
   "source": [
    "# function that takes two formal parameters\n",
    "def addition(a,b):\n",
    "    return a+b\n",
    "\n",
    "## calling function and passing actual parameters\n",
    "num1 = 5\n",
    "num2 = 2\n",
    "addition(num1,num2)"
   ]
  },
  {
   "cell_type": "markdown",
   "id": "2403a0b9-f781-4e53-b7cd-5b26f9e7ffc8",
   "metadata": {},
   "source": [
    "## 2) Write a Python program that defines a function with default argument values"
   ]
  },
  {
   "cell_type": "markdown",
   "id": "0a41c054-635b-4a46-ba3e-f351621675ec",
   "metadata": {},
   "source": [
    "### Ans 2)"
   ]
  },
  {
   "cell_type": "code",
   "execution_count": 21,
   "id": "020f12ae-0485-4356-ade2-28f202423f9b",
   "metadata": {},
   "outputs": [],
   "source": [
    "## lets define a function that takes two default values 1 and 2 and return it.\n",
    "def defualt_func(n1= 1, n2 = 2):\n",
    "    return n1,n2"
   ]
  },
  {
   "cell_type": "markdown",
   "id": "42831a66-6d74-4391-8b60-966d11ccfdc9",
   "metadata": {},
   "source": [
    "## 3) How do you use keyword arguments in Python function calls? Provide an example."
   ]
  },
  {
   "cell_type": "markdown",
   "id": "a06ffa52-bf9a-4195-9968-ddeb583f8045",
   "metadata": {},
   "source": [
    "### Ans 3)\n",
    "- keyword arguments are used in following way :\n",
    "- 1) call the function pass the value of parameter using parameter keyword.\n",
    "- following is an example of it : "
   ]
  },
  {
   "cell_type": "code",
   "execution_count": 35,
   "id": "b244e9c9-8698-4b7b-a0f2-ff653757c95f",
   "metadata": {},
   "outputs": [
    {
     "name": "stdout",
     "output_type": "stream",
     "text": [
      "Noorain Raza\n"
     ]
    }
   ],
   "source": [
    "def name(first,last):\n",
    "    print(first+' '+last)\n",
    "    \n",
    "name(first='Noorain' , last='Raza')"
   ]
  },
  {
   "cell_type": "markdown",
   "id": "c61aa51c-e10c-43e7-ab94-c03627ad89a2",
   "metadata": {},
   "source": [
    "## 4) Create a Python function that accepts a variable number of arguments and calculates their sum.\n"
   ]
  },
  {
   "cell_type": "markdown",
   "id": "0aa89cac-46ec-4d6d-90ad-51615ce52cf7",
   "metadata": {},
   "source": [
    "### Ans 4)"
   ]
  },
  {
   "cell_type": "code",
   "execution_count": 23,
   "id": "f46e34a1-199e-48eb-b29c-5f887ac665d7",
   "metadata": {},
   "outputs": [
    {
     "data": {
      "text/plain": [
       "6"
      ]
     },
     "execution_count": 23,
     "metadata": {},
     "output_type": "execute_result"
    }
   ],
   "source": [
    "## to take multiple values in a single a varibale use '*' sign.\n",
    "def func(*var):\n",
    "    return sum(var)\n",
    "    \n",
    "    \n",
    "## call the function and pass multiple arguments to single variable.\n",
    "func(1,2,3)"
   ]
  },
  {
   "cell_type": "markdown",
   "id": "fbf7da28-a6cc-4f4b-acff-557e6f5075c1",
   "metadata": {},
   "source": [
    "## 5) What is the purpose of the `*args` and `**kwargs` syntax in function parameter lists?"
   ]
  },
  {
   "cell_type": "markdown",
   "id": "c8edf89d-4b98-443d-8b7a-1b35d30190a1",
   "metadata": {},
   "source": [
    "### Ans 5)\n",
    "- *args is used to take any number of parameters in function.\n",
    "- **kwargs is used to pass anh number of parameters in key value pairs.\n",
    "- Following are examples of both : "
   ]
  },
  {
   "cell_type": "code",
   "execution_count": 39,
   "id": "bbdd3b39-a84a-4610-a681-1264e69b6e90",
   "metadata": {},
   "outputs": [
    {
     "name": "stdout",
     "output_type": "stream",
     "text": [
      "Example of *args : \n",
      "27\n",
      "Example of **kwargs : \n",
      "{'one': 1, 'two': 2, 'three': 3}\n"
     ]
    }
   ],
   "source": [
    "def addition(*par):\n",
    "    print(sum(par))\n",
    "\n",
    "def dic(**par):\n",
    "    print(par)\n",
    "\n",
    "print(\"Example of *args : \")\n",
    "addition(2,3,4,5,6,7)\n",
    "print(\"Example of **kwargs : \")\n",
    "dic(one = 1, two = 2, three = 3)"
   ]
  },
  {
   "cell_type": "markdown",
   "id": "f6f86641-2f45-4be8-87d9-f5791b578d08",
   "metadata": {},
   "source": [
    "# Topic : Return Values and Scoping"
   ]
  },
  {
   "cell_type": "markdown",
   "id": "2d5c23dc-4121-4461-9e45-8dcc4958748b",
   "metadata": {},
   "source": [
    "## 1) Describe the role of the `return` statement in Python functions and provide examples."
   ]
  },
  {
   "cell_type": "markdown",
   "id": "86337c3e-cb8f-4624-bcd9-fb96d3ac79a8",
   "metadata": {},
   "source": [
    "### Ans 1)\n",
    "- return statement is used to return output from a function.\n",
    "- it is written at the end of the function.\n",
    "- A function may be return or may not be return something."
   ]
  },
  {
   "cell_type": "code",
   "execution_count": 40,
   "id": "d5ba0f09-d3df-4808-b58f-105fec8fe5cd",
   "metadata": {},
   "outputs": [
    {
     "name": "stdout",
     "output_type": "stream",
     "text": [
      "Example of a function that doesn't return anything\n",
      "Your name is :  noorain\n",
      "Example of a function that returns addition of two numbers\n"
     ]
    },
    {
     "data": {
      "text/plain": [
       "20"
      ]
     },
     "execution_count": 40,
     "metadata": {},
     "output_type": "execute_result"
    }
   ],
   "source": [
    "# function that doesn't return anything\n",
    "def print_name(name):\n",
    "    print(\"Your name is : \",name)\n",
    "    \n",
    "# function that returns addition of two numbers\n",
    "def addition(num1,num2):\n",
    "    return num1+num2\n",
    "\n",
    "print(\"Example of a function that doesn't return anything\")\n",
    "print_name('noorain')\n",
    "print(\"Example of a function that returns addition of two numbers\")\n",
    "addition(5,15)"
   ]
  },
  {
   "cell_type": "markdown",
   "id": "118a1ece-f329-45f9-829f-813c40c58be9",
   "metadata": {},
   "source": [
    "## 2) Explain the concept of variable scope in Python, including local and global variables.\n"
   ]
  },
  {
   "cell_type": "markdown",
   "id": "90cf216b-106e-4d63-a982-f264bddc8220",
   "metadata": {},
   "source": [
    "### Ans 2)\n",
    "- A local variable is a variable that is declared inside the function. It only can be used inside the function. It can't be used outside the function.\n",
    "- A global variable is a variable that is declared outside the function and it can be used any where in the program."
   ]
  },
  {
   "cell_type": "markdown",
   "id": "5281935b-f7d4-4b83-b41b-2ccea2520639",
   "metadata": {},
   "source": [
    "## 3) Write a Python program that demonstrates the use of global variables within functions.\n"
   ]
  },
  {
   "cell_type": "markdown",
   "id": "2ec7bda9-2593-4868-9fa2-bb9a17bf7996",
   "metadata": {},
   "source": [
    "### Ans 3) \n",
    "\n",
    "#### Steps:\n",
    "- Create an empty list.\n",
    "- Define a function and inside the function use global keyword to declare that empty created list to global variable.\n",
    "- Inside the function append n elements into list and print it."
   ]
  },
  {
   "cell_type": "code",
   "execution_count": 26,
   "id": "6ce9f306-dc37-44c9-a772-f96b4c22059b",
   "metadata": {},
   "outputs": [
    {
     "name": "stdout",
     "output_type": "stream",
     "text": [
      "Global list of element :  []\n",
      "Created list of element by accessing inside the function:  [0, 1, 2, 3, 4]\n"
     ]
    }
   ],
   "source": [
    "lis3 = []\n",
    "print(\"Global list of element : \",lis3)\n",
    "\n",
    "def append_ele(n):\n",
    "    # use global keyword to declare a variable as  globally.\n",
    "    global lis3\n",
    "    \n",
    "    for i in range(n):\n",
    "        lis3.append(i)\n",
    "\n",
    "sum_global_ele(5)\n",
    "print(\"Created list of element by accessing inside the function: \",lis3)"
   ]
  },
  {
   "cell_type": "markdown",
   "id": "d91a2238-1100-4cf9-8ef7-ffb5cdbff9c1",
   "metadata": {},
   "source": [
    "## 4) Create a Python function that calculates the factorial of a number and returns it."
   ]
  },
  {
   "cell_type": "markdown",
   "id": "9ebb4c51-8fde-4207-9280-c2dd875c55ad",
   "metadata": {},
   "source": [
    "### Ans 4)"
   ]
  },
  {
   "cell_type": "code",
   "execution_count": 27,
   "id": "b504d3d3-8a64-459d-b967-a5f3e5fbd2ce",
   "metadata": {},
   "outputs": [
    {
     "name": "stdout",
     "output_type": "stream",
     "text": [
      "Factorial of a given number :  5040\n"
     ]
    }
   ],
   "source": [
    "def fact(n):\n",
    "    if n==0 or n == 1:\n",
    "        return 1\n",
    "    else:\n",
    "        return n * fact(n-1)\n",
    "        \n",
    "print(\"Factorial of a given number : \",fact(7))"
   ]
  },
  {
   "cell_type": "markdown",
   "id": "8afd1672-c98c-4e79-9475-50aea0a3ab66",
   "metadata": {},
   "source": [
    "## 5) How can you access variables defined outside a function from within the function?"
   ]
  },
  {
   "cell_type": "markdown",
   "id": "d93fcfa7-f1f0-4a79-b9db-e839e85a71fb",
   "metadata": {},
   "source": [
    "### Ans 5) \n",
    "- A variable that is defined outside the function is called as global variable.\n",
    "- A global variable can be access inside the function by using 'global' keyword."
   ]
  },
  {
   "cell_type": "markdown",
   "id": "1911cb18-777a-4615-a537-36343db84781",
   "metadata": {},
   "source": [
    "# Topic : Lambda Functions and Higher-Order Functions"
   ]
  },
  {
   "cell_type": "markdown",
   "id": "45c71eb9-1ff9-413f-8329-c45872e4284a",
   "metadata": {},
   "source": [
    "## 1) What are lambda functions in Python, and when are they typically used?\n"
   ]
  },
  {
   "cell_type": "markdown",
   "id": "d4f56b01-90b3-4055-8129-2d9cfba4b332",
   "metadata": {},
   "source": [
    "### Ans 1)\n",
    "- Lambda functions are anonymous function without any name.\n",
    "- lambda functions are used to perform such operation which are short and easy.\n",
    "- which uses one or more expression."
   ]
  },
  {
   "cell_type": "markdown",
   "id": "d839eac7-41ac-42a9-a814-b4b149ea1f7d",
   "metadata": {},
   "source": [
    "## 2) Write a Python program that uses lambda functions to sort a list of tuples based on the second element.\n"
   ]
  },
  {
   "cell_type": "markdown",
   "id": "3cd59d37-1758-408e-aebb-c32f0eb8f6de",
   "metadata": {},
   "source": [
    "### Ans 2)"
   ]
  },
  {
   "cell_type": "code",
   "execution_count": 31,
   "id": "1624c425-8242-4e30-bb95-50bee91826db",
   "metadata": {},
   "outputs": [
    {
     "name": "stdout",
     "output_type": "stream",
     "text": [
      "Given list of tuples: [(3, 4), (2, 6), (10, 6), (2, 1)]\n",
      "Sorted list based on the second element: [(2, 1), (3, 4), (2, 6), (10, 6)]\n"
     ]
    }
   ],
   "source": [
    "lis2 = [(3,4),(2,6),(10,6),(2,1)]\n",
    "print(\"Given list of tuples:\",lis2)\n",
    "\n",
    "lis2.sort(key= lambda x:x[1])\n",
    "print(\"Sorted list based on the second element:\",lis2)"
   ]
  },
  {
   "cell_type": "markdown",
   "id": "cb61200e-3ddf-4053-8464-f75793eded9b",
   "metadata": {},
   "source": [
    "## 3) Explain the concept of higher-order functions in Python, and provide an example."
   ]
  },
  {
   "cell_type": "markdown",
   "id": "6c3f2721-d74d-4c0d-8cf6-23a26515d658",
   "metadata": {},
   "source": [
    "### Ans 3) \n",
    "- In python Higher-order functions are those functions that can take one or more functions as parameter or returns a function as its result.\n",
    "- examples of higher order function : map(), reduce() and filter()."
   ]
  },
  {
   "cell_type": "markdown",
   "id": "597763f4-78f5-42a1-a010-cfac7ca32072",
   "metadata": {},
   "source": [
    "## 4) Create a Python function that takes a list of numbers and a function as arguments, applying the function to each element in the list.\n"
   ]
  },
  {
   "cell_type": "markdown",
   "id": "d2fd8027-b7e4-41fa-ae76-c14b21a30362",
   "metadata": {},
   "source": [
    "### Ans 4)"
   ]
  },
  {
   "cell_type": "code",
   "execution_count": 32,
   "id": "ed1315e2-e2c5-41fa-9a20-4d0f971cd132",
   "metadata": {},
   "outputs": [
    {
     "name": "stdout",
     "output_type": "stream",
     "text": [
      "Given list of strings :  ['1', '2', '3', '4']\n",
      "List of integers:\n"
     ]
    },
    {
     "data": {
      "text/plain": [
       "[1, 2, 3, 4]"
      ]
     },
     "execution_count": 32,
     "metadata": {},
     "output_type": "execute_result"
    }
   ],
   "source": [
    "lis4 = ['1','2','3','4']\n",
    "print(\"Given list of strings : \",lis4)\n",
    "\n",
    "## functoin that takes a list of string and apply integer function on it.\n",
    "print(\"List of integers:\")\n",
    "list(map(int, lis4))"
   ]
  },
  {
   "cell_type": "markdown",
   "id": "94f85b75-f033-4942-9976-7219f7cc4f00",
   "metadata": {},
   "source": [
    "# Topic : Built-in Functions"
   ]
  },
  {
   "cell_type": "markdown",
   "id": "b20582fb-4423-4f0a-9728-a5adbe39ddce",
   "metadata": {},
   "source": [
    "## 1) Describe the role of built-in functions like `len()`, `max()`, and `min()` in Python."
   ]
  },
  {
   "cell_type": "markdown",
   "id": "22ea2267-0c84-4967-b279-aaa318b52d68",
   "metadata": {},
   "source": [
    "### Ans 1) \n",
    "- len() : it is a length function that takes an iterable and returns number of elements in it.\n",
    "- max() : It is a maximum function that takes iterable of numbers return max number of them.\n",
    "- min() : It is a minimum function that takes iterable of numbers return min number of them."
   ]
  },
  {
   "cell_type": "markdown",
   "id": "c8cc2988-603d-4df7-b1b4-bab95877f1bc",
   "metadata": {},
   "source": [
    "## 2) Write a Python program that uses the `map()` function to apply a function to each element of a list.\n",
    " "
   ]
  },
  {
   "cell_type": "markdown",
   "id": "f68178eb-e1be-486c-87a9-ca7c8a133a71",
   "metadata": {},
   "source": [
    "### Ans 2)"
   ]
  },
  {
   "cell_type": "code",
   "execution_count": 33,
   "id": "603f42e6-5a52-4c6a-8dd9-8f8980aaf235",
   "metadata": {},
   "outputs": [
    {
     "name": "stdout",
     "output_type": "stream",
     "text": [
      "Given list of strings :  ['1', '2', '3', '4']\n",
      "List of integers:\n"
     ]
    },
    {
     "data": {
      "text/plain": [
       "[1, 2, 3, 4]"
      ]
     },
     "execution_count": 33,
     "metadata": {},
     "output_type": "execute_result"
    }
   ],
   "source": [
    "lis4 = ['1','2','3','4']\n",
    "print(\"Given list of strings : \",lis4)\n",
    "\n",
    "## functoin that takes a list of string and apply integer function on it.\n",
    "print(\"List of integers:\")\n",
    "list(map(int, lis4))"
   ]
  },
  {
   "cell_type": "markdown",
   "id": "fb472798-7a22-4ae6-b43d-5728e36fcafe",
   "metadata": {},
   "source": [
    "## 3) How does the `filter()` function work in Python, and when would you use it?"
   ]
  },
  {
   "cell_type": "markdown",
   "id": "3598f69c-b0e6-4c11-93c9-4336957f6426",
   "metadata": {},
   "source": [
    "### Ans 3)\n",
    "- filter() : filter() is a built-in function in python that is used to filter the elements from given iterables based on given expression/condition.\n",
    "- It takes iterable, and condition and return items for which the condition is true."
   ]
  },
  {
   "cell_type": "markdown",
   "id": "095ae11b-66aa-4922-81a3-fe9678aa2f3f",
   "metadata": {},
   "source": [
    "## 4) Create a Python program that uses the `reduce()` function to find the product of all elements in a list."
   ]
  },
  {
   "cell_type": "markdown",
   "id": "9be2ed12-6cc6-485d-b518-fdc79f517265",
   "metadata": {},
   "source": [
    "### Ans 4)"
   ]
  },
  {
   "cell_type": "code",
   "execution_count": 34,
   "id": "4b7c83c6-ac61-4ec9-87f3-deab12b0d8ab",
   "metadata": {},
   "outputs": [
    {
     "name": "stdout",
     "output_type": "stream",
     "text": [
      "Given list of numbers :  [1, 2, 3, 4]\n",
      "Product of all numbers using reduce function : \n"
     ]
    },
    {
     "data": {
      "text/plain": [
       "24"
      ]
     },
     "execution_count": 34,
     "metadata": {},
     "output_type": "execute_result"
    }
   ],
   "source": [
    "from functools import reduce\n",
    "\n",
    "lis4 = [1, 2, 3, 4]\n",
    "print(\"Given list of numbers : \",lis4)\n",
    "\n",
    "## functoin that takes a list of string and apply integer function on it.\n",
    "print(\"Product of all numbers using reduce function : \")\n",
    "reduce(lambda x,y : x*y ,lis4 )"
   ]
  },
  {
   "cell_type": "markdown",
   "id": "4c3728fe-11e3-4288-af44-c6c21a278f87",
   "metadata": {},
   "source": [
    "# Topic : Functions Documentation and Best Practices"
   ]
  },
  {
   "cell_type": "markdown",
   "id": "18e519c1-efeb-474b-8989-8fd2fb614bdd",
   "metadata": {},
   "source": [
    "## 1) Explain the purpose of docstrings in Python functions and how to write them."
   ]
  },
  {
   "cell_type": "markdown",
   "id": "e68d8ba7-2092-4ec3-b1da-2c86eae410c3",
   "metadata": {},
   "source": [
    "### Ans 1) \n",
    "- docstrings : it is type of comment in python that is used to describe the function like what a function does, what does it take , what does it return ?\n",
    "- docstring is written at the top of the function body in triple quotes ie ('''...'''')"
   ]
  },
  {
   "cell_type": "code",
   "execution_count": 41,
   "id": "736e158c-572c-4221-bb60-67f54a3e86e5",
   "metadata": {},
   "outputs": [],
   "source": [
    "def func():\n",
    "    '''This function does nothing'''\n",
    "    return None"
   ]
  },
  {
   "cell_type": "markdown",
   "id": "2d2b4cd0-751d-4ac9-972a-db9681e5a9fc",
   "metadata": {},
   "source": [
    "## 2) Describe some best practices for naming fucntions and variables in Python, including naming conventions and guidelines."
   ]
  },
  {
   "cell_type": "markdown",
   "id": "38b74491-c4b1-45f0-b930-f17bae5e6ef0",
   "metadata": {},
   "source": [
    "### Ans 2)\n",
    "\n",
    "1) Best practices for naming varaibles:\n",
    "- Variable name should be meaningful and descriptive.\n",
    "- It should follow any of the two conventions:\n",
    "- i) camelCase : where first letter of each word is capital except first word. ex- firstName , lastName\n",
    "- ii) snake_case : where words are seperated by '_' underscore. ex- first_name , last_name\n",
    "- Avoid using reserved keywords.\n",
    "- Don't use short form for any variable.\n",
    "\n",
    "2) Best practices for naming functions:\n",
    "- function name should be meaningful and descriptive.\n",
    "- It should follow any of the two conventions:\n",
    "- i) camelCase : where first letter of each word is capital except first word. ex- firstName , lastName\n",
    "- ii) snake_case : where words are seperated by '_' underscore. ex- first_name , last_name\n",
    "- Avoid using too short or too long name.\n",
    "- Avoid using generic name."
   ]
  }
 ],
 "metadata": {
  "kernelspec": {
   "display_name": "Python 3 (ipykernel)",
   "language": "python",
   "name": "python3"
  },
  "language_info": {
   "codemirror_mode": {
    "name": "ipython",
    "version": 3
   },
   "file_extension": ".py",
   "mimetype": "text/x-python",
   "name": "python",
   "nbconvert_exporter": "python",
   "pygments_lexer": "ipython3",
   "version": "3.10.8"
  }
 },
 "nbformat": 4,
 "nbformat_minor": 5
}
